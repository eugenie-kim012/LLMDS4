{
 "cells": [
  {
   "cell_type": "markdown",
   "id": "f5b4402e-7664-4f50-8286-9ba1807d6b77",
   "metadata": {
    "id": "f5b4402e-7664-4f50-8286-9ba1807d6b77"
   },
   "source": [
    "## **RAG의 핵심, 문서 검색기 Retriever**"
   ]
  },
  {
   "cell_type": "code",
   "execution_count": 1,
   "id": "JZCJ02NErq4D",
   "metadata": {
    "id": "JZCJ02NErq4D"
   },
   "outputs": [],
   "source": [
    "!pip install -q langchain tiktoken langchain-text-splitters langchain-openai langchain-chroma pypdf"
   ]
  },
  {
   "cell_type": "markdown",
   "id": "1524da28-f2e3-43cb-9637-eb1500817c34",
   "metadata": {
    "id": "1524da28-f2e3-43cb-9637-eb1500817c34"
   },
   "source": [
    "### **Retriever의 기본형, 벡터DB 기반 Retriever**"
   ]
  },
  {
   "cell_type": "markdown",
   "id": "c67ba141-5130-4d69-ac0d-e06c6879d0f1",
   "metadata": {
    "id": "c67ba141-5130-4d69-ac0d-e06c6879d0f1"
   },
   "source": [
    "**Chroma 벡터 DB 기반 기본 유사 문서 검색**"
   ]
  },
  {
   "cell_type": "code",
   "execution_count": 2,
   "id": "9wUTqjaJDLAv",
   "metadata": {
    "colab": {
     "base_uri": "https://localhost:8080/"
    },
    "id": "9wUTqjaJDLAv",
    "outputId": "63ac6dd5-1e8d-4ca0-dd0f-19939d998926"
   },
   "outputs": [
    {
     "name": "stdout",
     "output_type": "stream",
     "text": [
      "Drive already mounted at /content/drive; to attempt to forcibly remount, call drive.mount(\"/content/drive\", force_remount=True).\n"
     ]
    }
   ],
   "source": [
    "from google.colab import drive\n",
    "drive.mount('/content/drive')"
   ]
  },
  {
   "cell_type": "code",
   "execution_count": 3,
   "id": "qMUBXgblD_xd",
   "metadata": {
    "colab": {
     "base_uri": "https://localhost:8080/"
    },
    "id": "qMUBXgblD_xd",
    "outputId": "0ecaf67f-a543-4f78-b31c-317314de2b2f"
   },
   "outputs": [
    {
     "name": "stdout",
     "output_type": "stream",
     "text": [
      "Requirement already satisfied: langchain in /usr/local/lib/python3.11/dist-packages (0.3.26)\n",
      "Requirement already satisfied: langchain-community in /usr/local/lib/python3.11/dist-packages (0.3.26)\n",
      "Requirement already satisfied: langchain-core<1.0.0,>=0.3.66 in /usr/local/lib/python3.11/dist-packages (from langchain) (0.3.66)\n",
      "Requirement already satisfied: langchain-text-splitters<1.0.0,>=0.3.8 in /usr/local/lib/python3.11/dist-packages (from langchain) (0.3.8)\n",
      "Requirement already satisfied: langsmith>=0.1.17 in /usr/local/lib/python3.11/dist-packages (from langchain) (0.3.45)\n",
      "Requirement already satisfied: pydantic<3.0.0,>=2.7.4 in /usr/local/lib/python3.11/dist-packages (from langchain) (2.11.7)\n",
      "Requirement already satisfied: SQLAlchemy<3,>=1.4 in /usr/local/lib/python3.11/dist-packages (from langchain) (2.0.41)\n",
      "Requirement already satisfied: requests<3,>=2 in /usr/local/lib/python3.11/dist-packages (from langchain) (2.32.3)\n",
      "Requirement already satisfied: PyYAML>=5.3 in /usr/local/lib/python3.11/dist-packages (from langchain) (6.0.2)\n",
      "Requirement already satisfied: aiohttp<4.0.0,>=3.8.3 in /usr/local/lib/python3.11/dist-packages (from langchain-community) (3.11.15)\n",
      "Requirement already satisfied: tenacity!=8.4.0,<10,>=8.1.0 in /usr/local/lib/python3.11/dist-packages (from langchain-community) (9.1.2)\n",
      "Requirement already satisfied: dataclasses-json<0.7,>=0.5.7 in /usr/local/lib/python3.11/dist-packages (from langchain-community) (0.6.7)\n",
      "Requirement already satisfied: pydantic-settings<3.0.0,>=2.4.0 in /usr/local/lib/python3.11/dist-packages (from langchain-community) (2.10.1)\n",
      "Requirement already satisfied: httpx-sse<1.0.0,>=0.4.0 in /usr/local/lib/python3.11/dist-packages (from langchain-community) (0.4.1)\n",
      "Requirement already satisfied: numpy>=1.26.2 in /usr/local/lib/python3.11/dist-packages (from langchain-community) (2.0.2)\n",
      "Requirement already satisfied: aiohappyeyeballs>=2.3.0 in /usr/local/lib/python3.11/dist-packages (from aiohttp<4.0.0,>=3.8.3->langchain-community) (2.6.1)\n",
      "Requirement already satisfied: aiosignal>=1.1.2 in /usr/local/lib/python3.11/dist-packages (from aiohttp<4.0.0,>=3.8.3->langchain-community) (1.3.2)\n",
      "Requirement already satisfied: attrs>=17.3.0 in /usr/local/lib/python3.11/dist-packages (from aiohttp<4.0.0,>=3.8.3->langchain-community) (25.3.0)\n",
      "Requirement already satisfied: frozenlist>=1.1.1 in /usr/local/lib/python3.11/dist-packages (from aiohttp<4.0.0,>=3.8.3->langchain-community) (1.7.0)\n",
      "Requirement already satisfied: multidict<7.0,>=4.5 in /usr/local/lib/python3.11/dist-packages (from aiohttp<4.0.0,>=3.8.3->langchain-community) (6.4.4)\n",
      "Requirement already satisfied: propcache>=0.2.0 in /usr/local/lib/python3.11/dist-packages (from aiohttp<4.0.0,>=3.8.3->langchain-community) (0.3.2)\n",
      "Requirement already satisfied: yarl<2.0,>=1.17.0 in /usr/local/lib/python3.11/dist-packages (from aiohttp<4.0.0,>=3.8.3->langchain-community) (1.20.1)\n",
      "Requirement already satisfied: marshmallow<4.0.0,>=3.18.0 in /usr/local/lib/python3.11/dist-packages (from dataclasses-json<0.7,>=0.5.7->langchain-community) (3.26.1)\n",
      "Requirement already satisfied: typing-inspect<1,>=0.4.0 in /usr/local/lib/python3.11/dist-packages (from dataclasses-json<0.7,>=0.5.7->langchain-community) (0.9.0)\n",
      "Requirement already satisfied: jsonpatch<2.0,>=1.33 in /usr/local/lib/python3.11/dist-packages (from langchain-core<1.0.0,>=0.3.66->langchain) (1.33)\n",
      "Requirement already satisfied: packaging<25,>=23.2 in /usr/local/lib/python3.11/dist-packages (from langchain-core<1.0.0,>=0.3.66->langchain) (24.2)\n",
      "Requirement already satisfied: typing-extensions>=4.7 in /usr/local/lib/python3.11/dist-packages (from langchain-core<1.0.0,>=0.3.66->langchain) (4.14.0)\n",
      "Requirement already satisfied: httpx<1,>=0.23.0 in /usr/local/lib/python3.11/dist-packages (from langsmith>=0.1.17->langchain) (0.28.1)\n",
      "Requirement already satisfied: orjson<4.0.0,>=3.9.14 in /usr/local/lib/python3.11/dist-packages (from langsmith>=0.1.17->langchain) (3.10.18)\n",
      "Requirement already satisfied: requests-toolbelt<2.0.0,>=1.0.0 in /usr/local/lib/python3.11/dist-packages (from langsmith>=0.1.17->langchain) (1.0.0)\n",
      "Requirement already satisfied: zstandard<0.24.0,>=0.23.0 in /usr/local/lib/python3.11/dist-packages (from langsmith>=0.1.17->langchain) (0.23.0)\n",
      "Requirement already satisfied: annotated-types>=0.6.0 in /usr/local/lib/python3.11/dist-packages (from pydantic<3.0.0,>=2.7.4->langchain) (0.7.0)\n",
      "Requirement already satisfied: pydantic-core==2.33.2 in /usr/local/lib/python3.11/dist-packages (from pydantic<3.0.0,>=2.7.4->langchain) (2.33.2)\n",
      "Requirement already satisfied: typing-inspection>=0.4.0 in /usr/local/lib/python3.11/dist-packages (from pydantic<3.0.0,>=2.7.4->langchain) (0.4.1)\n",
      "Requirement already satisfied: python-dotenv>=0.21.0 in /usr/local/lib/python3.11/dist-packages (from pydantic-settings<3.0.0,>=2.4.0->langchain-community) (1.1.1)\n",
      "Requirement already satisfied: charset-normalizer<4,>=2 in /usr/local/lib/python3.11/dist-packages (from requests<3,>=2->langchain) (3.4.2)\n",
      "Requirement already satisfied: idna<4,>=2.5 in /usr/local/lib/python3.11/dist-packages (from requests<3,>=2->langchain) (3.10)\n",
      "Requirement already satisfied: urllib3<3,>=1.21.1 in /usr/local/lib/python3.11/dist-packages (from requests<3,>=2->langchain) (2.4.0)\n",
      "Requirement already satisfied: certifi>=2017.4.17 in /usr/local/lib/python3.11/dist-packages (from requests<3,>=2->langchain) (2025.6.15)\n",
      "Requirement already satisfied: greenlet>=1 in /usr/local/lib/python3.11/dist-packages (from SQLAlchemy<3,>=1.4->langchain) (3.2.3)\n",
      "Requirement already satisfied: anyio in /usr/local/lib/python3.11/dist-packages (from httpx<1,>=0.23.0->langsmith>=0.1.17->langchain) (4.9.0)\n",
      "Requirement already satisfied: httpcore==1.* in /usr/local/lib/python3.11/dist-packages (from httpx<1,>=0.23.0->langsmith>=0.1.17->langchain) (1.0.9)\n",
      "Requirement already satisfied: h11>=0.16 in /usr/local/lib/python3.11/dist-packages (from httpcore==1.*->httpx<1,>=0.23.0->langsmith>=0.1.17->langchain) (0.16.0)\n",
      "Requirement already satisfied: jsonpointer>=1.9 in /usr/local/lib/python3.11/dist-packages (from jsonpatch<2.0,>=1.33->langchain-core<1.0.0,>=0.3.66->langchain) (3.0.0)\n",
      "Requirement already satisfied: mypy-extensions>=0.3.0 in /usr/local/lib/python3.11/dist-packages (from typing-inspect<1,>=0.4.0->dataclasses-json<0.7,>=0.5.7->langchain-community) (1.1.0)\n",
      "Requirement already satisfied: sniffio>=1.1 in /usr/local/lib/python3.11/dist-packages (from anyio->httpx<1,>=0.23.0->langsmith>=0.1.17->langchain) (1.3.1)\n"
     ]
    }
   ],
   "source": [
    "!pip install -U langchain langchain-community"
   ]
  },
  {
   "cell_type": "code",
   "execution_count": 7,
   "id": "4cdf9cdf-f88d-49d5-9c6f-4b7c847c04a4",
   "metadata": {
    "colab": {
     "base_uri": "https://localhost:8080/"
    },
    "id": "4cdf9cdf-f88d-49d5-9c6f-4b7c847c04a4",
    "outputId": "56e8e838-61f7-446e-d021-ba3c83385fcf",
    "scrolled": true
   },
   "outputs": [
    {
     "data": {
      "text/plain": [
       "[Document(id='01b316b1-4a45-4083-93fb-aa8454bef792', metadata={'creationdate': '2024-12-06T14:47:30+09:00', 'source': '/content/drive/MyDrive/WB/2025JPO/대한민국헌법(헌법)(제00010호)(19880225).pdf', 'moddate': '2024-12-06T14:48:14+09:00', 'page_label': '2', 'creator': 'PyPDF', 'page': 1, 'producer': 'iText 2.1.7 by 1T3XT', 'total_pages': 2}, page_content='⑤국회가 재적의원 과반수의 찬성으로 계엄의 해제를 요구한 때에는 대통령은 이를 해제하여야 한다.\\n \\n제89조 다음 사항은 국무회의의 심의를 거쳐야 한다.\\n1. 국정의 기본계획과 정부의 일반정책\\n2. 선전ㆍ강화 기타 중요한 대외정책\\n3. 헌법개정안ㆍ국민투표안ㆍ조약안ㆍ법률안 및 대통령령안\\n4. 예산안ㆍ결산ㆍ국유재산처분의 기본계획ㆍ국가의 부담이 될 계약 기타 재정에 관한 중요사항\\n5. 대통령의 긴급명령ㆍ긴급재정경제처분 및 명령 또는 계엄과 그 해제\\n6. 군사에 관한 중요사항\\n7. 국회의 임시회 집회의 요구\\n8. 영전수여\\n9. 사면ㆍ감형과 복권\\n10. 행정각부간의 권한의 획정\\n11. 정부 안의 권한의 위임 또는 배정에 관한 기본계획\\n12. 국정처리상황의 평가ㆍ분석\\n13. 행정각부의 중요한 정책의 수립과 조정\\n14. 정당해산의 제소\\n15. 정부에 제출 또는 회부된 정부의 정책에 관계되는 청원의 심사'),\n",
       " Document(id='ebbcc4d0-f058-49ae-819d-834d8fe7192e', metadata={'producer': 'iText 2.1.7 by 1T3XT', 'creator': 'PyPDF', 'total_pages': 2, 'page': 0, 'source': '/content/drive/MyDrive/WB/2025JPO/대한민국헌법(헌법)(제00010호)(19880225).pdf', 'moddate': '2024-12-06T14:48:14+09:00', 'page_label': '1', 'creationdate': '2024-12-06T14:47:30+09:00'}, page_content='②정당은 그 목적ㆍ조직과 활동이 민주적이어야 하며, 국민의 정치적 의사형성에 참여하는데 필요한 조직을 가져야\\n한다.\\n③정당은 법률이 정하는 바에 의하여 국가의 보호를 받으며, 국가는 법률이 정하는 바에 의하여 정당운영에 필요한\\n자금을 보조할 수 있다.\\n④정당의 목적이나 활동이 민주적 기본질서에 위배될 때에는 정부는 헌법재판소에 그 해산을 제소할 수 있고, 정당\\n은 헌법재판소의 심판에 의하여 해산된다.\\n \\n제65조 ①대통령ㆍ국무총리ㆍ국무위원ㆍ행정각부의 장ㆍ헌법재판소 재판관ㆍ법관ㆍ중앙선거관리위원회 위원ㆍ감사\\n원장ㆍ감사위원 기타 법률이 정한 공무원이 그 직무집행에 있어서 헌법이나 법률을 위배한 때에는 국회는 탄핵의\\n소추를 의결할 수 있다.\\n②제1항의 탄핵소추는 국회재적의원 3분의 1 이상의 발의가 있어야 하며, 그 의결은 국회재적의원 과반수의 찬성이\\n있어야 한다. 다만, 대통령에 대한 탄핵소추는 국회재적의원 과반수의 발의와 국회재적의원 3분의 2 이상의 찬성이\\n있어야 한다.'),\n",
       " Document(id='9771bbf1-1864-44a8-b995-b09dcab68b4a', metadata={'source': '/content/drive/MyDrive/WB/2025JPO/대한민국헌법(헌법)(제00010호)(19880225).pdf', 'page': 1, 'producer': 'iText 2.1.7 by 1T3XT', 'moddate': '2024-12-06T14:48:14+09:00', 'total_pages': 2, 'creator': 'PyPDF', 'creationdate': '2024-12-06T14:47:30+09:00', 'page_label': '2'}, page_content='16. 검찰총장ㆍ합동참모의장ㆍ각군참모총장ㆍ국립대학교총장ㆍ대사 기타 법률이 정한 공무원과 국영기업체관리자\\n의 임명\\n17. 기타 대통령ㆍ국무총리 또는 국무위원이 제출한 사항'),\n",
       " Document(id='0036b3a0-7db8-4e34-9577-2e28ab6bef88', metadata={'creationdate': '2024-12-06T14:47:30+09:00', 'creator': 'PyPDF', 'source': '/content/drive/MyDrive/WB/2025JPO/대한민국헌법(헌법)(제00010호)(19880225).pdf', 'total_pages': 2, 'page': 1, 'page_label': '2', 'moddate': '2024-12-06T14:48:14+09:00', 'producer': 'iText 2.1.7 by 1T3XT'}, page_content='법제처                                                            2                                                       국가법령정보센터\\n대한민국헌법\\n제74조 ①대통령은 헌법과 법률이 정하는 바에 의하여 국군을 통수한다.\\n②국군의 조직과 편성은 법률로 정한다.\\n \\n제77조 ①대통령은 전시ㆍ사변 또는 이에 준하는 국가비상사태에 있어서 병력으로써 군사상의 필요에 응하거나 공공\\n의 안녕질서를 유지할 필요가 있을 때에는 법률이 정하는 바에 의하여 계엄을 선포할 수 있다.\\n②계엄은 비상계엄과 경비계엄으로 한다.\\n③비상계엄이 선포된 때에는 법률이 정하는 바에 의하여 영장제도, 언론ㆍ출판ㆍ집회ㆍ결사의 자유, 정부나 법원의\\n권한에 관하여 특별한 조치를 할 수 있다.\\n④계엄을 선포한 때에는 대통령은 지체없이 국회에 통고하여야 한다.')]"
      ]
     },
     "execution_count": 7,
     "metadata": {},
     "output_type": "execute_result"
    }
   ],
   "source": [
    "from langchain.document_loaders import PyPDFLoader\n",
    "from langchain_text_splitters import RecursiveCharacterTextSplitter\n",
    "from langchain_openai import OpenAIEmbeddings\n",
    "from langchain_chroma import Chroma\n",
    "import os\n",
    "Chroma().delete_collection()\n",
    "os.environ[\"OPENAI_API_KEY\"] = \"your api\"\n",
    "\n",
    "#헌법 PDF 파일 로드\n",
    "loader = PyPDFLoader(r\"/content/drive/MyDrive/WB/2025JPO/대한민국헌법(헌법)(제00010호)(19880225).pdf\")\n",
    "pages = loader.load_and_split()\n",
    "\n",
    "#PDF 파일을 500자 청크로 분할\n",
    "text_splitter = RecursiveCharacterTextSplitter(chunk_size=500, chunk_overlap=0)\n",
    "docs = text_splitter.split_documents(pages)\n",
    "\n",
    "#ChromaDB에 청크들을 벡터 임베딩으로 저장(OpenAI 임베딩 모델 활용)\n",
    "db = Chroma.from_documents(docs, OpenAIEmbeddings(model = 'text-embedding-3-small'))\n",
    "\n",
    "#Chroma를 Retriever로 활용\n",
    "retriever = db.as_retriever()\n",
    "retriever.invoke(\"국회의원의 의무\")"
   ]
  },
  {
   "cell_type": "markdown",
   "id": "254d0774-053e-4be5-af3f-961100df2e5c",
   "metadata": {
    "id": "254d0774-053e-4be5-af3f-961100df2e5c"
   },
   "source": [
    "**(1) 유사도 점수도 함께 출력하기**"
   ]
  },
  {
   "cell_type": "code",
   "execution_count": 8,
   "id": "1b073504-7fa7-45b1-82f7-9c1c2fc5a043",
   "metadata": {
    "colab": {
     "base_uri": "https://localhost:8080/"
    },
    "id": "1b073504-7fa7-45b1-82f7-9c1c2fc5a043",
    "outputId": "3338cdd1-5ea6-46d8-c07b-6b7b5ce98a06",
    "scrolled": true
   },
   "outputs": [
    {
     "name": "stdout",
     "output_type": "stream",
     "text": [
      "[유사 청크 1순위]\n",
      "⑤국회가 재적의원 과반수의 찬성으로 계엄의 해제를 요구한 때에는 대통령은 이를 해제하여야 한다.\n",
      " \n",
      "제89조 다음 사항은 국무회의의 심의를 거쳐야 한다.\n",
      "1. 국정의 기본계획과 정부의 일반정책\n",
      "2. 선전ㆍ강화 기타 중요한 대외정책\n",
      "3. 헌법개정안ㆍ국민투표안ㆍ조약안ㆍ법률안 및 대통령령안\n",
      "4. 예산안ㆍ결산ㆍ국유재산처분의 기본계획ㆍ국가의 부담이 될 계약 기타 재정에 관한 중요사항\n",
      "5. 대통령의 긴급명령ㆍ긴급재정경제처분 및 명령 또는 계엄과 그 해제\n",
      "6. 군사에 관한 중요사항\n",
      "7. 국회의 임시회 집회의 요구\n",
      "8. 영전수여\n",
      "9. 사면ㆍ감형과 복권\n",
      "10. 행정각부간의 권한의 획정\n",
      "11. 정부 안의 권한의 위임 또는 배정에 관한 기본계획\n",
      "12. 국정처리상황의 평가ㆍ분석\n",
      "13. 행정각부의 중요한 정책의 수립과 조정\n",
      "14. 정당해산의 제소\n",
      "15. 정부에 제출 또는 회부된 정부의 정책에 관계되는 청원의 심사\n",
      "\n",
      "\n",
      "[점수]\n",
      "1.009122371673584\n",
      "0.286573383172941\n"
     ]
    }
   ],
   "source": [
    "result_score = db.similarity_search_with_score(\"국회의원의 의무\") #값이 낮을 수록 질문과의 유사도가 높음\n",
    "result_r_score = db.similarity_search_with_relevance_scores(\"국회의원의 의무\") #값이 높을수록 질문과 유사도가 높음\n",
    "\n",
    "print(\"[유사 청크 1순위]\")\n",
    "print(result_score[0][0].page_content)\n",
    "\n",
    "print(\"\\n\\n[점수]\")\n",
    "print(result_score[0][1])\n",
    "print(result_r_score[0][1])"
   ]
  },
  {
   "cell_type": "markdown",
   "id": "ff67e922-2072-4595-ac4f-63eb5d8375af",
   "metadata": {
    "id": "ff67e922-2072-4595-ac4f-63eb5d8375af"
   },
   "source": [
    "**(2) 검색 결과 수 및 조정**"
   ]
  },
  {
   "cell_type": "code",
   "execution_count": 9,
   "id": "0d63f235-6502-4a8d-99df-27fc8a06fdf2",
   "metadata": {
    "colab": {
     "base_uri": "https://localhost:8080/"
    },
    "id": "0d63f235-6502-4a8d-99df-27fc8a06fdf2",
    "outputId": "e434d955-6893-46e8-d7ca-2a45a6dc62f8"
   },
   "outputs": [
    {
     "data": {
      "text/plain": [
       "[Document(id='01b316b1-4a45-4083-93fb-aa8454bef792', metadata={'page_label': '2', 'creator': 'PyPDF', 'creationdate': '2024-12-06T14:47:30+09:00', 'producer': 'iText 2.1.7 by 1T3XT', 'source': '/content/drive/MyDrive/WB/2025JPO/대한민국헌법(헌법)(제00010호)(19880225).pdf', 'total_pages': 2, 'page': 1, 'moddate': '2024-12-06T14:48:14+09:00'}, page_content='⑤국회가 재적의원 과반수의 찬성으로 계엄의 해제를 요구한 때에는 대통령은 이를 해제하여야 한다.\\n \\n제89조 다음 사항은 국무회의의 심의를 거쳐야 한다.\\n1. 국정의 기본계획과 정부의 일반정책\\n2. 선전ㆍ강화 기타 중요한 대외정책\\n3. 헌법개정안ㆍ국민투표안ㆍ조약안ㆍ법률안 및 대통령령안\\n4. 예산안ㆍ결산ㆍ국유재산처분의 기본계획ㆍ국가의 부담이 될 계약 기타 재정에 관한 중요사항\\n5. 대통령의 긴급명령ㆍ긴급재정경제처분 및 명령 또는 계엄과 그 해제\\n6. 군사에 관한 중요사항\\n7. 국회의 임시회 집회의 요구\\n8. 영전수여\\n9. 사면ㆍ감형과 복권\\n10. 행정각부간의 권한의 획정\\n11. 정부 안의 권한의 위임 또는 배정에 관한 기본계획\\n12. 국정처리상황의 평가ㆍ분석\\n13. 행정각부의 중요한 정책의 수립과 조정\\n14. 정당해산의 제소\\n15. 정부에 제출 또는 회부된 정부의 정책에 관계되는 청원의 심사')]"
      ]
     },
     "execution_count": 9,
     "metadata": {},
     "output_type": "execute_result"
    }
   ],
   "source": [
    "#유사 청크 1개만 반환\n",
    "retriever = db.as_retriever(search_kwargs={\"k\": 1}) #매개 변수를 활용, 더 세밀한 검색을 실시하기 \"K\" 를 조정하기\n",
    "retriever.invoke(\"국회의원의 의무\")"
   ]
  },
  {
   "cell_type": "markdown",
   "id": "e9e0e349-cdb4-415d-8cfe-ffed753a50dd",
   "metadata": {
    "id": "e9e0e349-cdb4-415d-8cfe-ffed753a50dd"
   },
   "source": [
    "**(3) 검색 방식 변경 - MMR**"
   ]
  },
  {
   "cell_type": "code",
   "execution_count": 11,
   "id": "d3cd593f-2445-4a39-be66-596413ebcab8",
   "metadata": {
    "id": "d3cd593f-2445-4a39-be66-596413ebcab8"
   },
   "outputs": [],
   "source": [
    "#유사도를 기준으로, 높은 유사도 순의 청크 N개만 추출 (MMR - Maximal Marginal Relevance)\n",
    "from langchain.document_loaders import PyPDFLoader\n",
    "from langchain_text_splitters import RecursiveCharacterTextSplitter\n",
    "from langchain_openai import OpenAIEmbeddings\n",
    "from langchain_chroma import Chroma\n",
    "\n",
    "#헌법 PDF 파일 로드\n",
    "loader = PyPDFLoader(r\"/content/drive/MyDrive/WB/2025JPO/대한민국헌법(헌법)(제00010호)(19880225).pdf\")\n",
    "\n",
    "pages = loader.load_and_split()\n",
    "\n",
    "#PDF 파일을 500자 청크로 분할\n",
    "text_splitter = RecursiveCharacterTextSplitter(chunk_size=500, chunk_overlap=0)\n",
    "docs = text_splitter.split_documents(pages)\n",
    "\n",
    "#ChromaDB에 청크들을 벡터 임베딩으로 저장(OpenAI 임베딩 모델 활용)\n",
    "db = Chroma.from_documents(docs, OpenAIEmbeddings(model = 'text-embedding-3-small'))"
   ]
  },
  {
   "cell_type": "code",
   "execution_count": 12,
   "id": "1e98b705-bc74-4251-b643-1f7abe12f959",
   "metadata": {
    "colab": {
     "base_uri": "https://localhost:8080/"
    },
    "id": "1e98b705-bc74-4251-b643-1f7abe12f959",
    "outputId": "ed18f9ff-e41c-462b-e99a-5f124f7b7f9f"
   },
   "outputs": [
    {
     "data": {
      "text/plain": [
       "[Document(id='01b316b1-4a45-4083-93fb-aa8454bef792', metadata={'page_label': '2', 'page': 1, 'total_pages': 2, 'creationdate': '2024-12-06T14:47:30+09:00', 'producer': 'iText 2.1.7 by 1T3XT', 'moddate': '2024-12-06T14:48:14+09:00', 'creator': 'PyPDF', 'source': '/content/drive/MyDrive/WB/2025JPO/대한민국헌법(헌법)(제00010호)(19880225).pdf'}, page_content='⑤국회가 재적의원 과반수의 찬성으로 계엄의 해제를 요구한 때에는 대통령은 이를 해제하여야 한다.\\n \\n제89조 다음 사항은 국무회의의 심의를 거쳐야 한다.\\n1. 국정의 기본계획과 정부의 일반정책\\n2. 선전ㆍ강화 기타 중요한 대외정책\\n3. 헌법개정안ㆍ국민투표안ㆍ조약안ㆍ법률안 및 대통령령안\\n4. 예산안ㆍ결산ㆍ국유재산처분의 기본계획ㆍ국가의 부담이 될 계약 기타 재정에 관한 중요사항\\n5. 대통령의 긴급명령ㆍ긴급재정경제처분 및 명령 또는 계엄과 그 해제\\n6. 군사에 관한 중요사항\\n7. 국회의 임시회 집회의 요구\\n8. 영전수여\\n9. 사면ㆍ감형과 복권\\n10. 행정각부간의 권한의 획정\\n11. 정부 안의 권한의 위임 또는 배정에 관한 기본계획\\n12. 국정처리상황의 평가ㆍ분석\\n13. 행정각부의 중요한 정책의 수립과 조정\\n14. 정당해산의 제소\\n15. 정부에 제출 또는 회부된 정부의 정책에 관계되는 청원의 심사'),\n",
       " Document(id='8209906a-6195-4bab-a026-f3bd5fe09d21', metadata={'page_label': '2', 'producer': 'iText 2.1.7 by 1T3XT', 'creationdate': '2024-12-06T14:47:30+09:00', 'total_pages': 2, 'page': 1, 'moddate': '2024-12-06T14:48:14+09:00', 'source': '/content/drive/MyDrive/WB/2025JPO/대한민국헌법(헌법)(제00010호)(19880225).pdf', 'creator': 'PyPDF'}, page_content='16. 검찰총장ㆍ합동참모의장ㆍ각군참모총장ㆍ국립대학교총장ㆍ대사 기타 법률이 정한 공무원과 국영기업체관리자\\n의 임명\\n17. 기타 대통령ㆍ국무총리 또는 국무위원이 제출한 사항'),\n",
       " Document(id='0036b3a0-7db8-4e34-9577-2e28ab6bef88', metadata={'source': '/content/drive/MyDrive/WB/2025JPO/대한민국헌법(헌법)(제00010호)(19880225).pdf', 'total_pages': 2, 'creator': 'PyPDF', 'producer': 'iText 2.1.7 by 1T3XT', 'page_label': '2', 'page': 1, 'creationdate': '2024-12-06T14:47:30+09:00', 'moddate': '2024-12-06T14:48:14+09:00'}, page_content='법제처                                                            2                                                       국가법령정보센터\\n대한민국헌법\\n제74조 ①대통령은 헌법과 법률이 정하는 바에 의하여 국군을 통수한다.\\n②국군의 조직과 편성은 법률로 정한다.\\n \\n제77조 ①대통령은 전시ㆍ사변 또는 이에 준하는 국가비상사태에 있어서 병력으로써 군사상의 필요에 응하거나 공공\\n의 안녕질서를 유지할 필요가 있을 때에는 법률이 정하는 바에 의하여 계엄을 선포할 수 있다.\\n②계엄은 비상계엄과 경비계엄으로 한다.\\n③비상계엄이 선포된 때에는 법률이 정하는 바에 의하여 영장제도, 언론ㆍ출판ㆍ집회ㆍ결사의 자유, 정부나 법원의\\n권한에 관하여 특별한 조치를 할 수 있다.\\n④계엄을 선포한 때에는 대통령은 지체없이 국회에 통고하여야 한다.')]"
      ]
     },
     "execution_count": 12,
     "metadata": {},
     "output_type": "execute_result"
    }
   ],
   "source": [
    "#Chroma를 Retriever로 활용 - 다양성만이 고려된 경우\n",
    "retriever = db.as_retriever(\n",
    "    search_type=\"mmr\",\n",
    "    search_kwargs = {\"lambda_mult\": 0, \"fetch_k\":10, \"k\":3}\n",
    ")\n",
    "retriever.invoke(\"국회의원의 의무\")"
   ]
  },
  {
   "cell_type": "markdown",
   "id": "c6c5d7d1-df93-4473-9eb6-2d8efd8300ca",
   "metadata": {
    "id": "c6c5d7d1-df93-4473-9eb6-2d8efd8300ca"
   },
   "source": [
    "**일반 유사도 검색 방식**"
   ]
  },
  {
   "cell_type": "code",
   "execution_count": 13,
   "id": "28c99b8b-ab6b-4b90-abce-ef9757c33edc",
   "metadata": {
    "colab": {
     "base_uri": "https://localhost:8080/"
    },
    "id": "28c99b8b-ab6b-4b90-abce-ef9757c33edc",
    "outputId": "8373eeb1-7ce2-4b97-a32d-efb1aa1b490a"
   },
   "outputs": [
    {
     "name": "stderr",
     "output_type": "stream",
     "text": [
      "/tmp/ipython-input-13-2706477368.py:3: LangChainDeprecationWarning: The method `BaseRetriever.get_relevant_documents` was deprecated in langchain-core 0.1.46 and will be removed in 1.0. Use :meth:`~invoke` instead.\n",
      "  retriever.get_relevant_documents(\"국회의원의 의무\")\n"
     ]
    },
    {
     "data": {
      "text/plain": [
       "[Document(id='01b316b1-4a45-4083-93fb-aa8454bef792', metadata={'producer': 'iText 2.1.7 by 1T3XT', 'source': '/content/drive/MyDrive/WB/2025JPO/대한민국헌법(헌법)(제00010호)(19880225).pdf', 'creator': 'PyPDF', 'total_pages': 2, 'creationdate': '2024-12-06T14:47:30+09:00', 'page_label': '2', 'moddate': '2024-12-06T14:48:14+09:00', 'page': 1}, page_content='⑤국회가 재적의원 과반수의 찬성으로 계엄의 해제를 요구한 때에는 대통령은 이를 해제하여야 한다.\\n \\n제89조 다음 사항은 국무회의의 심의를 거쳐야 한다.\\n1. 국정의 기본계획과 정부의 일반정책\\n2. 선전ㆍ강화 기타 중요한 대외정책\\n3. 헌법개정안ㆍ국민투표안ㆍ조약안ㆍ법률안 및 대통령령안\\n4. 예산안ㆍ결산ㆍ국유재산처분의 기본계획ㆍ국가의 부담이 될 계약 기타 재정에 관한 중요사항\\n5. 대통령의 긴급명령ㆍ긴급재정경제처분 및 명령 또는 계엄과 그 해제\\n6. 군사에 관한 중요사항\\n7. 국회의 임시회 집회의 요구\\n8. 영전수여\\n9. 사면ㆍ감형과 복권\\n10. 행정각부간의 권한의 획정\\n11. 정부 안의 권한의 위임 또는 배정에 관한 기본계획\\n12. 국정처리상황의 평가ㆍ분석\\n13. 행정각부의 중요한 정책의 수립과 조정\\n14. 정당해산의 제소\\n15. 정부에 제출 또는 회부된 정부의 정책에 관계되는 청원의 심사'),\n",
       " Document(id='c65dffc6-b9cd-4e18-af16-1cafb6b63fd2', metadata={'moddate': '2024-12-06T14:48:14+09:00', 'total_pages': 2, 'producer': 'iText 2.1.7 by 1T3XT', 'creationdate': '2024-12-06T14:47:30+09:00', 'creator': 'PyPDF', 'source': '/content/drive/MyDrive/WB/2025JPO/대한민국헌법(헌법)(제00010호)(19880225).pdf', 'page': 1, 'page_label': '2'}, page_content='⑤국회가 재적의원 과반수의 찬성으로 계엄의 해제를 요구한 때에는 대통령은 이를 해제하여야 한다.\\n \\n제89조 다음 사항은 국무회의의 심의를 거쳐야 한다.\\n1. 국정의 기본계획과 정부의 일반정책\\n2. 선전ㆍ강화 기타 중요한 대외정책\\n3. 헌법개정안ㆍ국민투표안ㆍ조약안ㆍ법률안 및 대통령령안\\n4. 예산안ㆍ결산ㆍ국유재산처분의 기본계획ㆍ국가의 부담이 될 계약 기타 재정에 관한 중요사항\\n5. 대통령의 긴급명령ㆍ긴급재정경제처분 및 명령 또는 계엄과 그 해제\\n6. 군사에 관한 중요사항\\n7. 국회의 임시회 집회의 요구\\n8. 영전수여\\n9. 사면ㆍ감형과 복권\\n10. 행정각부간의 권한의 획정\\n11. 정부 안의 권한의 위임 또는 배정에 관한 기본계획\\n12. 국정처리상황의 평가ㆍ분석\\n13. 행정각부의 중요한 정책의 수립과 조정\\n14. 정당해산의 제소\\n15. 정부에 제출 또는 회부된 정부의 정책에 관계되는 청원의 심사'),\n",
       " Document(id='ebbcc4d0-f058-49ae-819d-834d8fe7192e', metadata={'page_label': '1', 'page': 0, 'creator': 'PyPDF', 'total_pages': 2, 'source': '/content/drive/MyDrive/WB/2025JPO/대한민국헌법(헌법)(제00010호)(19880225).pdf', 'moddate': '2024-12-06T14:48:14+09:00', 'creationdate': '2024-12-06T14:47:30+09:00', 'producer': 'iText 2.1.7 by 1T3XT'}, page_content='②정당은 그 목적ㆍ조직과 활동이 민주적이어야 하며, 국민의 정치적 의사형성에 참여하는데 필요한 조직을 가져야\\n한다.\\n③정당은 법률이 정하는 바에 의하여 국가의 보호를 받으며, 국가는 법률이 정하는 바에 의하여 정당운영에 필요한\\n자금을 보조할 수 있다.\\n④정당의 목적이나 활동이 민주적 기본질서에 위배될 때에는 정부는 헌법재판소에 그 해산을 제소할 수 있고, 정당\\n은 헌법재판소의 심판에 의하여 해산된다.\\n \\n제65조 ①대통령ㆍ국무총리ㆍ국무위원ㆍ행정각부의 장ㆍ헌법재판소 재판관ㆍ법관ㆍ중앙선거관리위원회 위원ㆍ감사\\n원장ㆍ감사위원 기타 법률이 정한 공무원이 그 직무집행에 있어서 헌법이나 법률을 위배한 때에는 국회는 탄핵의\\n소추를 의결할 수 있다.\\n②제1항의 탄핵소추는 국회재적의원 3분의 1 이상의 발의가 있어야 하며, 그 의결은 국회재적의원 과반수의 찬성이\\n있어야 한다. 다만, 대통령에 대한 탄핵소추는 국회재적의원 과반수의 발의와 국회재적의원 3분의 2 이상의 찬성이\\n있어야 한다.')]"
      ]
     },
     "execution_count": 13,
     "metadata": {},
     "output_type": "execute_result"
    }
   ],
   "source": [
    "#Chroma를 Retriever로 활용\n",
    "retriever = db.as_retriever(search_kwargs = {\"k\":3})\n",
    "retriever.get_relevant_documents(\"국회의원의 의무\")\n"
   ]
  },
  {
   "cell_type": "markdown",
   "id": "f39d3627-574a-4b40-9153-3e5607b22d28",
   "metadata": {
    "id": "f39d3627-574a-4b40-9153-3e5607b22d28"
   },
   "source": [
    "### **사용자의 쿼리를 재해석하여 검색하다, MultiQueryRetriever**"
   ]
  },
  {
   "cell_type": "markdown",
   "id": "b827c04e-5c8d-4fb6-8765-f260147e32a7",
   "metadata": {
    "id": "b827c04e-5c8d-4fb6-8765-f260147e32a7"
   },
   "source": [
    "**Chroma DB에 문서 벡터 저장**"
   ]
  },
  {
   "cell_type": "code",
   "execution_count": 15,
   "id": "c94f53e7-088b-4927-ab60-30055b1659c3",
   "metadata": {
    "id": "c94f53e7-088b-4927-ab60-30055b1659c3"
   },
   "outputs": [],
   "source": [
    "from langchain.document_loaders import PyPDFLoader\n",
    "from langchain_text_splitters import RecursiveCharacterTextSplitter\n",
    "from langchain_openai import OpenAIEmbeddings\n",
    "from langchain_chroma import Chroma\n",
    "\n",
    "#헌법 PDF 파일 로드\n",
    "loader = PyPDFLoader(r\"/content/drive/MyDrive/WB/2025JPO/대한민국헌법(헌법)(제00010호)(19880225).pdf\")\n",
    "pages = loader.load_and_split()\n",
    "\n",
    "#PDF 파일을 500자 청크로 분할\n",
    "text_splitter = RecursiveCharacterTextSplitter(chunk_size=500, chunk_overlap=0)\n",
    "docs = text_splitter.split_documents(pages)\n",
    "\n",
    "#ChromaDB에 청크들을 벡터 임베딩으로 저장(OpenAI 임베딩 모델 활용)\n",
    "db = Chroma.from_documents(docs, OpenAIEmbeddings(model = 'text-embedding-3-small'))"
   ]
  },
  {
   "cell_type": "markdown",
   "id": "32afbeb6-fe95-4056-82a1-4575bbcb80d5",
   "metadata": {
    "id": "32afbeb6-fe95-4056-82a1-4575bbcb80d5"
   },
   "source": [
    "**질문을 여러 버전으로 재해석하여 Retriever에 활용**"
   ]
  },
  {
   "cell_type": "code",
   "execution_count": 17,
   "id": "d07f336e-18b5-474f-891c-036f8d944a9c",
   "metadata": {
    "colab": {
     "base_uri": "https://localhost:8080/"
    },
    "id": "d07f336e-18b5-474f-891c-036f8d944a9c",
    "outputId": "d877b48e-6da5-4f83-9c93-9fe34205bb94"
   },
   "outputs": [
    {
     "name": "stderr",
     "output_type": "stream",
     "text": [
      "INFO:langchain.retrievers.multi_query:Generated queries: ['국회의원이 수행해야 하는 의무는 어떤 것들이 있나요?  ', '국회의원의 책임과 의무에 대해 설명해 주세요.  ', '국회의원으로서 지켜야 할 의무는 무엇인가요?']\n"
     ]
    },
    {
     "data": {
      "text/plain": [
       "6"
      ]
     },
     "execution_count": 17,
     "metadata": {},
     "output_type": "execute_result"
    }
   ],
   "source": [
    "# 대한민국 헌법 PDF를 Chroma DB로 임베딩/저장한 것은 위 셀에서 완료됨\n",
    "\n",
    "# 여러 개의 유사 질문을 생성하기 위한 모듈 및 모델 선언\n",
    "from langchain.retrievers.multi_query import MultiQueryRetriever\n",
    "from langchain_openai import ChatOpenAI\n",
    "\n",
    "# 검색에 사용할 질문 입력\n",
    "question = \"국회의원의 의무는 무엇이 있나요?\"\n",
    "\n",
    "# LLM 설정 (OpenAI의 GPT-4o-mini 사용, temperature는 0으로 고정)\n",
    "# temperature=0은 가능한 한 일관된 출력(다양성보다 정답성 중시)을 의미\n",
    "llm = ChatOpenAI(model_name=\"gpt-4o-mini\", temperature=0)\n",
    "\n",
    "# Chroma 벡터DB에서 검색하는 Retriever 객체 + LLM 기반 MultiQueryRetriever 설정\n",
    "retriever_from_llm = MultiQueryRetriever.from_llm(\n",
    "    retriever=db.as_retriever(),  # 기존 Chroma DB에서 의미 기반 검색을 담당\n",
    "    llm=llm                        # 다양한 표현으로 쿼리를 확장할 LLM\n",
    ")\n",
    "\n",
    "# 검색 쿼리 생성 및 과정 로깅을 위해 로깅 수준 설정\n",
    "import logging\n",
    "logging.basicConfig()\n",
    "logging.getLogger(\"langchain.retrievers.multi_query\").setLevel(logging.INFO)\n",
    "\n",
    "# 위 질문을 다양한 표현으로 확장하고, 각 쿼리로 유사한 문서 검색\n",
    "unique_docs = retriever_from_llm.invoke(input=question)\n",
    "\n",
    "# 검색 결과로 반환된 고유 문서 개수 출력\n",
    "len(unique_docs)\n"
   ]
  },
  {
   "cell_type": "markdown",
   "id": "098f4e88-9264-4e41-a7aa-715957c33950",
   "metadata": {
    "id": "098f4e88-9264-4e41-a7aa-715957c33950"
   },
   "source": [
    "### **문서를 여러 벡터로 재해석하다, MultiVectorRetriever**"
   ]
  },
  {
   "cell_type": "markdown",
   "id": "a0cd16eb-fae7-42df-9d30-70f3ef0bc8c9",
   "metadata": {
    "id": "a0cd16eb-fae7-42df-9d30-70f3ef0bc8c9"
   },
   "source": [
    "**Chroma DB에 문서 벡터 저장**"
   ]
  },
  {
   "cell_type": "code",
   "execution_count": 18,
   "id": "e650226e-1b22-4259-b2a1-d8ce2f1103ab",
   "metadata": {
    "id": "e650226e-1b22-4259-b2a1-d8ce2f1103ab"
   },
   "outputs": [],
   "source": [
    "from langchain.retrievers.multi_vector import MultiVectorRetriever\n",
    "from langchain.storage import InMemoryByteStore\n",
    "from langchain_chroma import Chroma\n",
    "from langchain_text_splitters import RecursiveCharacterTextSplitter\n",
    "from langchain.document_loaders import PyPDFLoader\n",
    "\n",
    "loader = PyPDFLoader(r\"/content/drive/MyDrive/WB/2025JPO/대한민국헌법(헌법)(제00010호)(19880225).pdf\")\n",
    "docs = loader.load()\n",
    "text_splitter = RecursiveCharacterTextSplitter(chunk_size=2000)\n",
    "docs = text_splitter.split_documents(docs)"
   ]
  },
  {
   "cell_type": "markdown",
   "id": "fbbd162e-d7de-4eab-94f6-c164c5fc8360",
   "metadata": {
    "id": "fbbd162e-d7de-4eab-94f6-c164c5fc8360"
   },
   "source": [
    "**Multi Vector를 만들기 위한 작업 (상위 검색기를 구축하기 위함)**"
   ]
  },
  {
   "cell_type": "code",
   "execution_count": 19,
   "id": "7d446a6f-e53f-40fb-b886-0251cd495935",
   "metadata": {
    "colab": {
     "base_uri": "https://localhost:8080/",
     "height": 560,
     "referenced_widgets": [
      "c3371429e3c04206ad18769d1be0eede",
      "5e2bcab41f1442bcab60fadab8aaca42",
      "febe22191c2e4c79a36f325d2d8ab0ca",
      "625e47a5b9874836ae7b285401b3cebd",
      "9a065618d0994beaaf79bd96d7ab6889",
      "51c45ad0751a46898db2dbb8cc44eef3",
      "a0aeae67e9f448d9ad8e1a06ff16a5c9",
      "47a894bcc83c48b4a3fa47670bdb6c6d",
      "f0acb98cf14d4668809d4bffe66b5946",
      "e318a2d092734f91971dca47452a0111",
      "21a595c2a8ea4597ab00d92516e66e99",
      "a87aa2e18fac4fcb9f7ef71d51c6e3ac",
      "7bac50812b16452ba5d8b8b960b741d3",
      "b568914ca93f4c2bb232ed3fbd1c495e",
      "d62338b231b9413183145a8b785326dc",
      "fbe5a56c87e2449ba30cad7c9040ff30",
      "8c0038a72f1846388f3424c3c96675d3",
      "a0b722a3bcdc41dea75b8a184c262527",
      "6ecaef823a314af2ae986f914cf50b1e",
      "08b453d7c5e44989a19ffd900205cabd",
      "453895987d074291955e5bf8f6708667",
      "9611e5ba1e414937aa9bc67137b9b1bc",
      "009d1c8e4aee4bca898ff367404c7a49",
      "d1c3a96bbef34c129ad652e01c33a72b",
      "3c6e301dcab74a08b841c75c0c42e6ad",
      "8df707f2f93e42238ac8e2aa5abd3a6f",
      "3a9ed458212c4d1a89b9f979be4a751b",
      "88d20c10878a4939a09b276b4586da2f",
      "dd47bbfffc484f38b75de6119a945e88",
      "d98405cbd15746edbba490c25811195b",
      "78cf098ef2314e4399566269a24ff1d1",
      "8de56aa66aad42c98721b51e34108c52",
      "7bf0395a2ebf404397bda6d9645ea55d",
      "fc9d0f921c774f26afdd6ea4d6f04281",
      "fd537bb22a8c41cdb40bc4ff6218f0c4",
      "d54c7706a5d146d98da982f9c184e369",
      "de576775e3254e89b242f78f46e33c36",
      "21832ccfaf9c468d9e376ddf8bf464de",
      "5f8f4b725dd8448ba644c6251c132013",
      "3550b06ed0e54ed18272986f3a17f574",
      "bf975c050cab420092b0e48764a51b77",
      "d4eb68112ff94c1ca08388e0eba87edb",
      "82d2ee7288cb405db6d9636661faefc2",
      "d48e0d24533f4228a7421d415a849585",
      "4f43440ddfb24b458420008cfb1ae99a",
      "e62b49261b3f4395a8bf381e2bca8e1b",
      "145565e5cd16499cb789ec6baf3e35a1",
      "114298cc877c4c04aba29ee2ee1a5e7a",
      "b9d9119c12ed447d82408b9852f6f67f",
      "ef16eb03cfd44dcbad07998fdcaad671",
      "80590fc552a240568fd667fca06a59fb",
      "244946f3c6644e9f83523508ed069d22",
      "e5e5ac25a38541b88eb5da5265d69407",
      "f7773f92256d4c6f9db4f5c265b22ead",
      "9ccbb24f8a814976804e26907b0abf35",
      "6ae7971eb7c94741aa1877458e94440d",
      "7050937d033d41fd8d106e9fe5d04bb6",
      "2798c78a3806462f91e611be338d53cf",
      "7e2eb23f5e21462a948b04155a1b22d6",
      "41e8080cc6f744edb29ab66eb21af154",
      "9b25a231846b45fa93307830753e23d1",
      "192fedfccb724d8782fbce0f692f8456",
      "f7fb44d4457a4126a1cf3a868efefe0c",
      "0adbf6d602d7479c8255b9a03cd9dd97",
      "0806cb9a8e074632a5419566a6e27c5a",
      "685c666cc8fc4ff8ab6febbb61ad599f",
      "4fc5acef48454b71847b2fd97ebf6d50",
      "6233d34183f1409bb4093bbfe6668b50",
      "efd9bf3e18c245cfb87817ba09adfd7d",
      "acd81df8109d4ceb9896e37b343660e4",
      "b8954b3371d6489d9cf23a06f766d33b",
      "c9babb524a3949ee92b29294a2e0bd54",
      "1bf0a8c6a9524c8783eec661adca3ae6",
      "900198f4d7144d72b7d77696156ec109",
      "77b6fb647cf347369b0ef2890b0f6c6f",
      "772fe954dd7c4a9091c078fc9728c0ef",
      "b94280a9574d495db13be8250d4a3f79",
      "0ca6a28a9f894cde8c45c868e8f44811",
      "1f95ebfc398f4333ab5e14ac0e970af5",
      "2d8e60e787544c90a5a5338bdf7d6100",
      "3dc98ed9891f411cad964192c71ebd62",
      "b19ea1448d404184874578376e2119c8",
      "42e5dde8210445818a2e04be87cf9f6d",
      "ea129b9515d44e578b9ca190749b2608",
      "24ca510e604c4b299b58b4637e017d32",
      "9c668dc482284ebdaa1c5febdc1f8dd1",
      "9fab05cff58743d4b4b90c341b2c8963",
      "72f526f1b853406d8f7bcc4eb265c0ae",
      "40ad0a5c885149d49266fe2afaad4193",
      "48ad629a1257420088f4b867414c72e5",
      "ecbfeedb91ef47b4bedab6927604620b",
      "94385e173c87478d8495a82ddf5767a5",
      "7dae6f91fa8040b3b18f8db81c65865e",
      "7d69a96ea2894794bfaf2790daa44952",
      "e1ddefe73c174f92ac5a7ce09ba99b4f",
      "dcfbfca8dc0548c48240400673e168bb",
      "67e6b7bc1ac84fa8b1d16107db86d78e",
      "16c622179a494beeb819879b00e174b2",
      "265a392fe896459aa9a6e01573ffbf47",
      "fc42eebf204845acaa3833fb9ef69024",
      "5c5b2b4308354c49ab96f1a206380057",
      "ec96bacb0a0544049a8d98347d908139",
      "5043f398d5b041b5b8778652bd946867",
      "b578da45e0734ba58bdb86ff0ff7a2c1",
      "56db16e0aab84556829ec9637596b257",
      "d4adfee5d9f1401da222d329b9c97e31",
      "c0adcd686a3948119c0e7b7ccfe0dc62",
      "90c6fee2cd50456aa233b47f4492489c",
      "f73cad4f95604d14a2b72ae8ffe79ba7",
      "7ba51a15f2ec4385bc49d3a180e6c43c",
      "b0dc3ae03dd04c03809ee10fc56b904c",
      "0bbf7fc4ba524678b9cda10a241f7572",
      "fb514b586bd545a7aec4477e91894c11",
      "4e8fc134e63146faaed621dadf26306d",
      "0089d4a802ae433eb1cbb456cba4175d",
      "a2f5a7165ea643609560a4bf06788145",
      "cd5c8631c8c749f4966651d5ffb2b3d6",
      "7e1f6fd66828409ba47f14844a860c11",
      "098fa70849e4432c91139af80e792517",
      "17cd17e8788b49bcaf1863510b34b8ac",
      "1b258772fbcf489f8ad7544a0dffbc1d",
      "1dd5e2d152e84345a0a2367ba8208fdf",
      "14ff3ae3d22b42f68dfb70dfc8ee63d6",
      "749d6f7dcdb74c358092a8ff04376dee",
      "6074054e89574f71858fb8030b23b05e",
      "946f4a8dca9a468e8f76d42c60958aa1",
      "33e4a56a92104e5a84213151328e9d52",
      "1dd76a6ce976426abfa092193162a4e3",
      "dc8d8f39be434764941fb79786b7dec9",
      "58b5dc20451e4c5ba0c4257eb4a1dd95",
      "0705dff96b8943f1a107ef4b50773dc2",
      "242c641d4c4047aba98bdd5d86b2aae8"
     ]
    },
    "id": "7d446a6f-e53f-40fb-b886-0251cd495935",
    "outputId": "f4396bce-a5cf-48a3-9a70-c079d2ef7612"
   },
   "outputs": [
    {
     "name": "stderr",
     "output_type": "stream",
     "text": [
      "/tmp/ipython-input-19-179998917.py:6: LangChainDeprecationWarning: The class `HuggingFaceEmbeddings` was deprecated in LangChain 0.2.2 and will be removed in 1.0. An updated version of the class exists in the :class:`~langchain-huggingface package and should be used instead. To use it run `pip install -U :class:`~langchain-huggingface` and import as `from :class:`~langchain_huggingface import HuggingFaceEmbeddings``.\n",
      "  embedding = HuggingFaceEmbeddings(\n",
      "/usr/local/lib/python3.11/dist-packages/huggingface_hub/utils/_auth.py:94: UserWarning: \n",
      "The secret `HF_TOKEN` does not exist in your Colab secrets.\n",
      "To authenticate with the Hugging Face Hub, create a token in your settings tab (https://huggingface.co/settings/tokens), set it as secret in your Google Colab and restart your session.\n",
      "You will be able to reuse this secret in all of your notebooks.\n",
      "Please note that authentication is recommended but still optional to access public models or datasets.\n",
      "  warnings.warn(\n"
     ]
    },
    {
     "data": {
      "application/vnd.jupyter.widget-view+json": {
       "model_id": "c3371429e3c04206ad18769d1be0eede",
       "version_major": 2,
       "version_minor": 0
      },
      "text/plain": [
       "modules.json:   0%|          | 0.00/229 [00:00<?, ?B/s]"
      ]
     },
     "metadata": {},
     "output_type": "display_data"
    },
    {
     "data": {
      "application/vnd.jupyter.widget-view+json": {
       "model_id": "a87aa2e18fac4fcb9f7ef71d51c6e3ac",
       "version_major": 2,
       "version_minor": 0
      },
      "text/plain": [
       "config_sentence_transformers.json:   0%|          | 0.00/123 [00:00<?, ?B/s]"
      ]
     },
     "metadata": {},
     "output_type": "display_data"
    },
    {
     "data": {
      "application/vnd.jupyter.widget-view+json": {
       "model_id": "009d1c8e4aee4bca898ff367404c7a49",
       "version_major": 2,
       "version_minor": 0
      },
      "text/plain": [
       "README.md:   0%|          | 0.00/4.46k [00:00<?, ?B/s]"
      ]
     },
     "metadata": {},
     "output_type": "display_data"
    },
    {
     "data": {
      "application/vnd.jupyter.widget-view+json": {
       "model_id": "fc9d0f921c774f26afdd6ea4d6f04281",
       "version_major": 2,
       "version_minor": 0
      },
      "text/plain": [
       "sentence_bert_config.json:   0%|          | 0.00/53.0 [00:00<?, ?B/s]"
      ]
     },
     "metadata": {},
     "output_type": "display_data"
    },
    {
     "data": {
      "application/vnd.jupyter.widget-view+json": {
       "model_id": "4f43440ddfb24b458420008cfb1ae99a",
       "version_major": 2,
       "version_minor": 0
      },
      "text/plain": [
       "config.json:   0%|          | 0.00/620 [00:00<?, ?B/s]"
      ]
     },
     "metadata": {},
     "output_type": "display_data"
    },
    {
     "data": {
      "application/vnd.jupyter.widget-view+json": {
       "model_id": "6ae7971eb7c94741aa1877458e94440d",
       "version_major": 2,
       "version_minor": 0
      },
      "text/plain": [
       "pytorch_model.bin:   0%|          | 0.00/443M [00:00<?, ?B/s]"
      ]
     },
     "metadata": {},
     "output_type": "display_data"
    },
    {
     "data": {
      "application/vnd.jupyter.widget-view+json": {
       "model_id": "4fc5acef48454b71847b2fd97ebf6d50",
       "version_major": 2,
       "version_minor": 0
      },
      "text/plain": [
       "model.safetensors:   0%|          | 0.00/442M [00:00<?, ?B/s]"
      ]
     },
     "metadata": {},
     "output_type": "display_data"
    },
    {
     "data": {
      "application/vnd.jupyter.widget-view+json": {
       "model_id": "0ca6a28a9f894cde8c45c868e8f44811",
       "version_major": 2,
       "version_minor": 0
      },
      "text/plain": [
       "tokenizer_config.json:   0%|          | 0.00/538 [00:00<?, ?B/s]"
      ]
     },
     "metadata": {},
     "output_type": "display_data"
    },
    {
     "data": {
      "application/vnd.jupyter.widget-view+json": {
       "model_id": "40ad0a5c885149d49266fe2afaad4193",
       "version_major": 2,
       "version_minor": 0
      },
      "text/plain": [
       "vocab.txt:   0%|          | 0.00/248k [00:00<?, ?B/s]"
      ]
     },
     "metadata": {},
     "output_type": "display_data"
    },
    {
     "data": {
      "application/vnd.jupyter.widget-view+json": {
       "model_id": "fc42eebf204845acaa3833fb9ef69024",
       "version_major": 2,
       "version_minor": 0
      },
      "text/plain": [
       "tokenizer.json:   0%|          | 0.00/495k [00:00<?, ?B/s]"
      ]
     },
     "metadata": {},
     "output_type": "display_data"
    },
    {
     "data": {
      "application/vnd.jupyter.widget-view+json": {
       "model_id": "b0dc3ae03dd04c03809ee10fc56b904c",
       "version_major": 2,
       "version_minor": 0
      },
      "text/plain": [
       "special_tokens_map.json:   0%|          | 0.00/112 [00:00<?, ?B/s]"
      ]
     },
     "metadata": {},
     "output_type": "display_data"
    },
    {
     "data": {
      "application/vnd.jupyter.widget-view+json": {
       "model_id": "1dd5e2d152e84345a0a2367ba8208fdf",
       "version_major": 2,
       "version_minor": 0
      },
      "text/plain": [
       "config.json:   0%|          | 0.00/190 [00:00<?, ?B/s]"
      ]
     },
     "metadata": {},
     "output_type": "display_data"
    }
   ],
   "source": [
    "from langchain.embeddings import HuggingFaceEmbeddings\n",
    "\n",
    "model_name = \"jhgan/ko-sbert-nli\"\n",
    "model_kwargs = {'device': 'cpu'}\n",
    "encode_kwargs = {'normalize_embeddings': True}\n",
    "embedding = HuggingFaceEmbeddings(\n",
    "    model_name=model_name,\n",
    "    model_kwargs=model_kwargs,\n",
    "    encode_kwargs=encode_kwargs\n",
    " ) #huggingface 임베딩 된 것 확인\n",
    "\n",
    "vectorstore = Chroma(\n",
    "    collection_name=\"full_documents\", embedding_function=embedding\n",
    ")\n",
    "# 상위 문서 저장 위한 레이어 선언 (상위 청크와 하위 청크를 연결하여 저장할 저장소 역할, docs에 저장하기)\n",
    "store = InMemoryByteStore()\n",
    "id_key = \"doc_id\"\n",
    "# 상위 문서와 하위 문서를 연결할 키값으로 doc_id 사용\n",
    "retriever = MultiVectorRetriever(\n",
    "    vectorstore=vectorstore,\n",
    "    byte_store=store,\n",
    "    id_key=id_key,\n",
    ")\n",
    "\n",
    "#문서 id로 고유한 값을 지정하기 위해 uuid 라이브러리 호출\n",
    "import uuid\n",
    "doc_ids = [str(uuid.uuid4()) for _ in docs]"
   ]
  },
  {
   "cell_type": "code",
   "execution_count": 20,
   "id": "26158345-63c4-4e8b-b4e9-1388bf3394c4",
   "metadata": {
    "id": "26158345-63c4-4e8b-b4e9-1388bf3394c4"
   },
   "outputs": [],
   "source": [
    "# 하위 청크로 쪼개기 위한 child_text_splitter 지정\n",
    "child_text_splitter = RecursiveCharacterTextSplitter(chunk_size=400)\n",
    "# 상위 청크들을 순회하며 하위 청크로 분할한 후 상위 청크 id 상속\n",
    "sub_docs = []\n",
    "for i, doc in enumerate(docs):\n",
    "    _id = doc_ids[i]\n",
    "    _sub_docs = child_text_splitter.split_documents([doc])\n",
    "    for _doc in _sub_docs:\n",
    "        _doc.metadata[id_key] = _id\n",
    "    sub_docs.extend(_sub_docs)\n",
    "#vectorstore에 하위 청크 추가\n",
    "retriever.vectorstore.add_documents(sub_docs)\n",
    "#docstore에 상위청크 저장할 때, doc_ids 지정\n",
    "retriever.docstore.mset(list(zip(doc_ids, docs)))"
   ]
  },
  {
   "cell_type": "code",
   "execution_count": 21,
   "id": "2ce2da81-9344-4712-b77c-0314d1c5b1df",
   "metadata": {
    "colab": {
     "base_uri": "https://localhost:8080/"
    },
    "id": "2ce2da81-9344-4712-b77c-0314d1c5b1df",
    "outputId": "e271cad9-f1cc-4c36-ea4f-bf72ab1d5032"
   },
   "outputs": [
    {
     "name": "stdout",
     "output_type": "stream",
     "text": [
      "[하위 청크] \n",
      "\n",
      "제1장 총강\n",
      " \n",
      "제1조 ①대한민국은 민주공화국이다.\n",
      "②대한민국의 주권은 국민에게 있고, 모든 권력은 국민으로부터 나온다.\n",
      " \n",
      "제5조 ①대한민국은 국제평화의 유지에 노력하고 침략적 전쟁을 부인한다.\n",
      "②국군은 국가의 안전보장과 국토방위의 신성한 의무를 수행함을 사명으로 하며, 그 정치적 중립성은 준수된다.\n",
      " \n",
      "제7조 ①공무원은 국민전체에 대한 봉사자이며, 국민에 대하여 책임을 진다.\n",
      "②공무원의 신분과 정치적 중립성은 법률이 정하는 바에 의하여 보장된다.\n",
      " \n",
      "제8조 ①정당의 설립은 자유이며, 복수정당제는 보장된다.\n",
      "②정당은 그 목적ㆍ조직과 활동이 민주적이어야 하며, 국민의 정치적 의사형성에 참여하는데 필요한 조직을 가져야\n",
      "한다.\n",
      "--------------------------------------------------\n",
      "[상위 청크] \n",
      "\n",
      "법제처                                                            1                                                       국가법령정보센터\n",
      "대한민국헌법\n",
      " \n",
      "대한민국헌법\n",
      "[시행 1988. 2. 25.] [헌법 제10호, 1987. 10. 29., 전부개정]\n",
      "       제1장 총강\n",
      " \n",
      "제1조 ①대한민국은 민주공화국이다.\n",
      "②대한민국의 주권은 국민에게 있고, 모든 권력은 국민으로부터 나온다.\n",
      " \n",
      "제5조 ①대한민국은 국제평화의 유지에 노력하고 침략적 전쟁을 부인한다.\n",
      "②국군은 국가의 안전보장과 국토방위의 신성한 의무를 수행함을 사명으로 하며, 그 정치적 중립성은 준수된다.\n",
      " \n",
      "제7조 ①공무원은 국민전체에 대한 봉사자이며, 국민에 대하여 책임을 진다.\n",
      "②공무원의 신분과 정치적 중립성은 법률이 정하는 바에 의하여 보장된다.\n",
      " \n",
      "제8조 ①정당의 설립은 자유이며, 복수정당제는 보장된다.\n",
      "②정당은 그 목적ㆍ조직과 활동이 민주적이어야 하며, 국민의 정치적 의사형성에 참여하는데 필요한 조직을 가져야\n",
      "한다.\n",
      "③정당은 법률이 정하는 바에 의하여 국가의 보호를 받으며, 국가는 법률이 정하는 바에 의하여 정당운영에 필요한\n",
      "자금을 보조할 수 있다.\n",
      "④정당의 목적이나 활동이 민주적 기본질서에 위배될 때에는 정부는 헌법재판소에 그 해산을 제소할 수 있고, 정당\n",
      "은 헌법재판소의 심판에 의하여 해산된다.\n",
      " \n",
      "제65조 ①대통령ㆍ국무총리ㆍ국무위원ㆍ행정각부의 장ㆍ헌법재판소 재판관ㆍ법관ㆍ중앙선거관리위원회 위원ㆍ감사\n",
      "원장ㆍ감사위원 기타 법률이 정한 공무원이 그 직무집행에 있어서 헌법이나 법률을 위배한 때에는 국회는 탄핵의\n",
      "소추를 의결할 수 있다.\n",
      "②제1항의 탄핵소추는 국회재적의원 3분의 1 이상의 발의가 있어야 하며, 그 의결은 국회재적의원 과반수의 찬성이\n",
      "있어야 한다. 다만, 대통령에 대한 탄핵소추는 국회재적의원 과반수의 발의와 국회재적의원 3분의 2 이상의 찬성이\n",
      "있어야 한다.\n",
      "③탄핵소추의 의결을 받은 자는 탄핵심판이 있을 때까지 그 권한행사가 정지된다.\n",
      "④탄핵결정은 공직으로부터 파면함에 그친다. 그러나, 이에 의하여 민사상이나 형사상의 책임이 면제되지는 아니한\n",
      "다.\n",
      " \n",
      "       제4장 정부\n",
      "         제1절 대통령\n",
      " \n",
      "제66조 ①대통령은 국가의 원수이며, 외국에 대하여 국가를 대표한다.\n",
      "②대통령은 국가의 독립ㆍ영토의 보전ㆍ국가의 계속성과 헌법을 수호할 책무를 진다.\n",
      "③대통령은 조국의 평화적 통일을 위한 성실한 의무를 진다.\n",
      "④행정권은 대통령을 수반으로 하는 정부에 속한다.\n",
      " \n",
      "제69조 대통령은 취임에 즈음하여 다음의 선서를 한다.\n",
      "“나는 헌법을 준수하고 국가를 보위하며 조국의 평화적 통일과 국민의 자유와 복리의 증진 및 민족문화의 창달에\n",
      "노력하여 대통령으로서의 직책을 성실히 수행할 것을 국민 앞에 엄숙히 선서합니다.”\n"
     ]
    }
   ],
   "source": [
    "# Vectorstore alone retrieves the small chunks\n",
    "print(\"[하위 청크] \\n\")\n",
    "print(retriever.vectorstore.similarity_search(\"국민의 권리\")[0].page_content)\n",
    "print(\"-\"*50)\n",
    "print(\"[상위 청크] \\n\")\n",
    "print(retriever.invoke(\"국민의 권리\")[0].page_content)"
   ]
  },
  {
   "cell_type": "markdown",
   "id": "53ed9410-784b-4e1e-9216-31b17ca62679",
   "metadata": {
    "id": "53ed9410-784b-4e1e-9216-31b17ca62679"
   },
   "source": [
    "### **컨텍스트 재정렬, Long-Context Reorder**"
   ]
  },
  {
   "cell_type": "markdown",
   "id": "24de51ff-30e1-4b07-8799-78eddf2fd34e",
   "metadata": {
    "id": "24de51ff-30e1-4b07-8799-78eddf2fd34e"
   },
   "source": [
    "**[Long-Context Reorder 없이 유사 문서 출력]**"
   ]
  },
  {
   "cell_type": "code",
   "execution_count": null,
   "id": "5eedc1d3-2882-4547-90d4-936590b642da",
   "metadata": {
    "id": "5eedc1d3-2882-4547-90d4-936590b642da"
   },
   "outputs": [],
   "source": [
    "#Chroma dimension 관련 에러 발생 시 실행\n",
    "# Chroma().delete_collection()"
   ]
  },
  {
   "cell_type": "code",
   "execution_count": 22,
   "id": "c2576e9d-4b09-4b9f-81f7-bf10828a9bd0",
   "metadata": {
    "colab": {
     "base_uri": "https://localhost:8080/"
    },
    "id": "c2576e9d-4b09-4b9f-81f7-bf10828a9bd0",
    "outputId": "f47502a8-8255-4b86-9abb-c9097384441b"
   },
   "outputs": [
    {
     "data": {
      "text/plain": [
       "[Document(id='efde1968-f9c2-49b2-8d55-58003ef5b87b', metadata={}, page_content='L. 코넷은 최고의 셀틱스 선수 중 한 명입니다.'),\n",
       " Document(id='da67b929-aec5-4141-a892-f46dc1d66e10', metadata={}, page_content='셀틱스는 제가 가장 좋아하는 팀입니다.'),\n",
       " Document(id='b5fae81f-c704-4e93-93c3-334596f93add', metadata={}, page_content='이것은 그냥 임의의 텍스트입니다.'),\n",
       " Document(id='62d4e6ef-d396-42c9-8120-c44d2b6b647b', metadata={}, page_content='이것은 보스턴 셀틱스에 관한 문서입니다.저는 단순히 영화 보러 가는 것을 좋아합니다'),\n",
       " Document(id='11e97753-abe5-482c-bc0b-9a7ebef6909d', metadata={}, page_content='바스켓볼은 훌륭한 스포츠입니다.'),\n",
       " Document(id='2de97df6-871c-4362-8bec-b3eacad36b63', metadata={}, page_content='보스턴 셀틱스가 20점차로 이겼어요'),\n",
       " Document(id='a884db73-e71a-484f-834f-c67182116092', metadata={}, page_content='플라이 미 투 더 문은 제가 가장 좋아하는 노래 중 하나입니다.'),\n",
       " Document(id='fa83298d-25aa-478a-87e2-cf5b55314b63', metadata={}, page_content='엘든 링은 지난 15 년 동안 최고의 게임 중 하나입니다.'),\n",
       " Document(id='35ce6ee5-5017-405d-8f79-0a614689be57', metadata={}, page_content='래리 버드는 상징적인 NBA 선수였습니다.')]"
      ]
     },
     "execution_count": 22,
     "metadata": {},
     "output_type": "execute_result"
    }
   ],
   "source": [
    "from langchain.chains import LLMChain, StuffDocumentsChain\n",
    "from langchain_chroma import Chroma\n",
    "from langchain.document_transformers import (\n",
    "    LongContextReorder,\n",
    ")\n",
    "from langchain.embeddings import HuggingFaceEmbeddings\n",
    "from langchain.prompts import PromptTemplate\n",
    "from langchain_openai import OpenAI\n",
    "\n",
    "Chroma().delete_collection()\n",
    "\n",
    "# 한글 임베딩 모델 선언\n",
    "model_name = \"jhgan/ko-sbert-nli\"\n",
    "model_kwargs = {'device': 'cpu'}\n",
    "encode_kwargs = {'normalize_embeddings': True}\n",
    "embedding = HuggingFaceEmbeddings(\n",
    "    model_name=model_name,\n",
    "    model_kwargs=model_kwargs,\n",
    "    encode_kwargs=encode_kwargs\n",
    ")\n",
    "\n",
    "texts = [\n",
    "    \"바스켓볼은 훌륭한 스포츠입니다.\",\n",
    "    \"플라이 미 투 더 문은 제가 가장 좋아하는 노래 중 하나입니다.\",\n",
    "    \"셀틱스는 제가 가장 좋아하는 팀입니다.\",\n",
    "    \"이것은 보스턴 셀틱스에 관한 문서입니다.\"\n",
    "    \"저는 단순히 영화 보러 가는 것을 좋아합니다\",\n",
    "    \"보스턴 셀틱스가 20점차로 이겼어요\",\n",
    "    \"이것은 그냥 임의의 텍스트입니다.\",\n",
    "    \"엘든 링은 지난 15 년 동안 최고의 게임 중 하나입니다.\",\n",
    "    \"L. 코넷은 최고의 셀틱스 선수 중 한 명입니다.\",\n",
    "    \"래리 버드는 상징적인 NBA 선수였습니다.\",\n",
    "]\n",
    "# Chroma Retriever 선언(10개의 유사 문서 출력)\n",
    "retriever = Chroma.from_texts(texts, embedding=embedding).as_retriever(\n",
    "    search_kwargs={\"k\": 10}\n",
    ")\n",
    "query = \"셀틱에 대해 설명해줘\"\n",
    "\n",
    "# 유사도 기준으로 검색 결과 출력\n",
    "docs = retriever.invoke(query)\n",
    "docs"
   ]
  },
  {
   "cell_type": "markdown",
   "id": "da360438-90dd-4a51-9a12-9665f9908be1",
   "metadata": {
    "id": "da360438-90dd-4a51-9a12-9665f9908be1"
   },
   "source": [
    "**[Long-Context Reorder 활용하여 유사 문서 출력]**"
   ]
  },
  {
   "cell_type": "code",
   "execution_count": 23,
   "id": "9a56f567-ddf3-427e-9203-7b1957a4afe2",
   "metadata": {
    "colab": {
     "base_uri": "https://localhost:8080/"
    },
    "id": "9a56f567-ddf3-427e-9203-7b1957a4afe2",
    "outputId": "1b8ca7be-41a9-44fe-8cf5-af699e3459dc"
   },
   "outputs": [
    {
     "data": {
      "text/plain": [
       "[Document(id='efde1968-f9c2-49b2-8d55-58003ef5b87b', metadata={}, page_content='L. 코넷은 최고의 셀틱스 선수 중 한 명입니다.'),\n",
       " Document(id='b5fae81f-c704-4e93-93c3-334596f93add', metadata={}, page_content='이것은 그냥 임의의 텍스트입니다.'),\n",
       " Document(id='11e97753-abe5-482c-bc0b-9a7ebef6909d', metadata={}, page_content='바스켓볼은 훌륭한 스포츠입니다.'),\n",
       " Document(id='a884db73-e71a-484f-834f-c67182116092', metadata={}, page_content='플라이 미 투 더 문은 제가 가장 좋아하는 노래 중 하나입니다.'),\n",
       " Document(id='35ce6ee5-5017-405d-8f79-0a614689be57', metadata={}, page_content='래리 버드는 상징적인 NBA 선수였습니다.'),\n",
       " Document(id='fa83298d-25aa-478a-87e2-cf5b55314b63', metadata={}, page_content='엘든 링은 지난 15 년 동안 최고의 게임 중 하나입니다.'),\n",
       " Document(id='2de97df6-871c-4362-8bec-b3eacad36b63', metadata={}, page_content='보스턴 셀틱스가 20점차로 이겼어요'),\n",
       " Document(id='62d4e6ef-d396-42c9-8120-c44d2b6b647b', metadata={}, page_content='이것은 보스턴 셀틱스에 관한 문서입니다.저는 단순히 영화 보러 가는 것을 좋아합니다'),\n",
       " Document(id='da67b929-aec5-4141-a892-f46dc1d66e10', metadata={}, page_content='셀틱스는 제가 가장 좋아하는 팀입니다.')]"
      ]
     },
     "execution_count": 23,
     "metadata": {},
     "output_type": "execute_result"
    }
   ],
   "source": [
    "#LongContextReorder 선언\n",
    "reordering = LongContextReorder()\n",
    "#검색된 유사문서 중 관련도가 높은 문서를 맨앞과 맨뒤에 재정배치\n",
    "reordered_docs = reordering.transform_documents(docs)\n",
    "reordered_docs"
   ]
  },
  {
   "cell_type": "code",
   "execution_count": null,
   "id": "5348d291-016c-431b-85ce-b87e300655b1",
   "metadata": {
    "id": "5348d291-016c-431b-85ce-b87e300655b1"
   },
   "outputs": [],
   "source": []
  }
 ],
 "metadata": {
  "colab": {
   "provenance": []
  },
  "kernelspec": {
   "display_name": "Python 3 (ipykernel)",
   "language": "python",
   "name": "python3"
  },
  "language_info": {
   "codemirror_mode": {
    "name": "ipython",
    "version": 3
   },
   "file_extension": ".py",
   "mimetype": "text/x-python",
   "name": "python",
   "nbconvert_exporter": "python",
   "pygments_lexer": "ipython3",
   "version": "3.12.7"
  }
 },
 "nbformat": 4,
 "nbformat_minor": 5
}
