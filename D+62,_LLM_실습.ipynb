{
  "cells": [
    {
      "cell_type": "markdown",
      "metadata": {
        "id": "view-in-github",
        "colab_type": "text"
      },
      "source": [
        "<a href=\"https://colab.research.google.com/github/eugenie-kim012/LLMDS4/blob/main/D%2B62%2C_LLM_%EC%8B%A4%EC%8A%B5.ipynb\" target=\"_parent\"><img src=\"https://colab.research.google.com/assets/colab-badge.svg\" alt=\"Open In Colab\"/></a>"
      ]
    },
    {
      "cell_type": "markdown",
      "source": [
        "### 필수 라이브러리 설치 및 로드하기(+ API KEY 설정)"
      ],
      "metadata": {
        "id": "uj_V71IfvFNB"
      }
    },
    {
      "cell_type": "code",
      "source": [
        "!pip install -q langchain openai langchain-openai"
      ],
      "metadata": {
        "id": "p59qdp_kk8M6"
      },
      "execution_count": 1,
      "outputs": []
    },
    {
      "cell_type": "code",
      "source": [
        "pip install --upgrade langchain\n"
      ],
      "metadata": {
        "colab": {
          "base_uri": "https://localhost:8080/"
        },
        "id": "q2EzF9bqKKbo",
        "outputId": "7507efc5-57cd-4d7f-e618-5a5e0ccdbc56"
      },
      "execution_count": 2,
      "outputs": [
        {
          "output_type": "stream",
          "name": "stdout",
          "text": [
            "Requirement already satisfied: langchain in /usr/local/lib/python3.11/dist-packages (0.3.26)\n",
            "Requirement already satisfied: langchain-core<1.0.0,>=0.3.66 in /usr/local/lib/python3.11/dist-packages (from langchain) (0.3.66)\n",
            "Requirement already satisfied: langchain-text-splitters<1.0.0,>=0.3.8 in /usr/local/lib/python3.11/dist-packages (from langchain) (0.3.8)\n",
            "Requirement already satisfied: langsmith>=0.1.17 in /usr/local/lib/python3.11/dist-packages (from langchain) (0.3.45)\n",
            "Requirement already satisfied: pydantic<3.0.0,>=2.7.4 in /usr/local/lib/python3.11/dist-packages (from langchain) (2.11.7)\n",
            "Requirement already satisfied: SQLAlchemy<3,>=1.4 in /usr/local/lib/python3.11/dist-packages (from langchain) (2.0.41)\n",
            "Requirement already satisfied: requests<3,>=2 in /usr/local/lib/python3.11/dist-packages (from langchain) (2.32.3)\n",
            "Requirement already satisfied: PyYAML>=5.3 in /usr/local/lib/python3.11/dist-packages (from langchain) (6.0.2)\n",
            "Requirement already satisfied: tenacity!=8.4.0,<10.0.0,>=8.1.0 in /usr/local/lib/python3.11/dist-packages (from langchain-core<1.0.0,>=0.3.66->langchain) (9.1.2)\n",
            "Requirement already satisfied: jsonpatch<2.0,>=1.33 in /usr/local/lib/python3.11/dist-packages (from langchain-core<1.0.0,>=0.3.66->langchain) (1.33)\n",
            "Requirement already satisfied: packaging<25,>=23.2 in /usr/local/lib/python3.11/dist-packages (from langchain-core<1.0.0,>=0.3.66->langchain) (24.2)\n",
            "Requirement already satisfied: typing-extensions>=4.7 in /usr/local/lib/python3.11/dist-packages (from langchain-core<1.0.0,>=0.3.66->langchain) (4.14.0)\n",
            "Requirement already satisfied: httpx<1,>=0.23.0 in /usr/local/lib/python3.11/dist-packages (from langsmith>=0.1.17->langchain) (0.28.1)\n",
            "Requirement already satisfied: orjson<4.0.0,>=3.9.14 in /usr/local/lib/python3.11/dist-packages (from langsmith>=0.1.17->langchain) (3.10.18)\n",
            "Requirement already satisfied: requests-toolbelt<2.0.0,>=1.0.0 in /usr/local/lib/python3.11/dist-packages (from langsmith>=0.1.17->langchain) (1.0.0)\n",
            "Requirement already satisfied: zstandard<0.24.0,>=0.23.0 in /usr/local/lib/python3.11/dist-packages (from langsmith>=0.1.17->langchain) (0.23.0)\n",
            "Requirement already satisfied: annotated-types>=0.6.0 in /usr/local/lib/python3.11/dist-packages (from pydantic<3.0.0,>=2.7.4->langchain) (0.7.0)\n",
            "Requirement already satisfied: pydantic-core==2.33.2 in /usr/local/lib/python3.11/dist-packages (from pydantic<3.0.0,>=2.7.4->langchain) (2.33.2)\n",
            "Requirement already satisfied: typing-inspection>=0.4.0 in /usr/local/lib/python3.11/dist-packages (from pydantic<3.0.0,>=2.7.4->langchain) (0.4.1)\n",
            "Requirement already satisfied: charset-normalizer<4,>=2 in /usr/local/lib/python3.11/dist-packages (from requests<3,>=2->langchain) (3.4.2)\n",
            "Requirement already satisfied: idna<4,>=2.5 in /usr/local/lib/python3.11/dist-packages (from requests<3,>=2->langchain) (3.10)\n",
            "Requirement already satisfied: urllib3<3,>=1.21.1 in /usr/local/lib/python3.11/dist-packages (from requests<3,>=2->langchain) (2.4.0)\n",
            "Requirement already satisfied: certifi>=2017.4.17 in /usr/local/lib/python3.11/dist-packages (from requests<3,>=2->langchain) (2025.6.15)\n",
            "Requirement already satisfied: greenlet>=1 in /usr/local/lib/python3.11/dist-packages (from SQLAlchemy<3,>=1.4->langchain) (3.2.3)\n",
            "Requirement already satisfied: anyio in /usr/local/lib/python3.11/dist-packages (from httpx<1,>=0.23.0->langsmith>=0.1.17->langchain) (4.9.0)\n",
            "Requirement already satisfied: httpcore==1.* in /usr/local/lib/python3.11/dist-packages (from httpx<1,>=0.23.0->langsmith>=0.1.17->langchain) (1.0.9)\n",
            "Requirement already satisfied: h11>=0.16 in /usr/local/lib/python3.11/dist-packages (from httpcore==1.*->httpx<1,>=0.23.0->langsmith>=0.1.17->langchain) (0.16.0)\n",
            "Requirement already satisfied: jsonpointer>=1.9 in /usr/local/lib/python3.11/dist-packages (from jsonpatch<2.0,>=1.33->langchain-core<1.0.0,>=0.3.66->langchain) (3.0.0)\n",
            "Requirement already satisfied: sniffio>=1.1 in /usr/local/lib/python3.11/dist-packages (from anyio->httpx<1,>=0.23.0->langsmith>=0.1.17->langchain) (1.3.1)\n"
          ]
        }
      ]
    },
    {
      "cell_type": "code",
      "execution_count": 3,
      "metadata": {
        "id": "Z-CRiU8tdrdX"
      },
      "outputs": [],
      "source": [
        "#API KEY 저장을 위한 os 라이브러리 호출\n",
        "import os\n",
        "\n",
        "#OPENAI API키 저장\n",
        "#API KEY 발급 페이지: https://platform.openai.com/docs/guides/gpt/completions-api\n",
        "os.environ[\"OPENAI_API_KEY\"] = '각자의 API 넣기'"
      ]
    },
    {
      "cell_type": "markdown",
      "source": [
        "### (1) API를 통해 GPT-3, ChatGPT와 대화해보기"
      ],
      "metadata": {
        "id": "3_671qNBu7El"
      }
    },
    {
      "cell_type": "markdown",
      "source": [
        "**langchain_openai의 OpenAI() 기본 모델은 'gpt-3.5-turbo-instruct'입니다.**\n",
        "![image.png](data:image/png;base64,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)\n",
        "**해당 모델은 Completion endpoint를 사용할 수 있으나, 이후 모델은 ChatCompletion을 활용해야합니다.**\n",
        "![image.png](data:image/png;base64,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)"
      ],
      "metadata": {
        "id": "04g8VaxbggUp"
      }
    },
    {
      "cell_type": "code",
      "source": [
        "from langchain_openai import OpenAI\n",
        "llm = OpenAI()\n",
        "result = llm.invoke('파에썬과 R을 비교해줄래')\n",
        "print(result)"
      ],
      "metadata": {
        "id": "Ra-kD_ILNTut",
        "colab": {
          "base_uri": "https://localhost:8080/"
        },
        "outputId": "c3f6b527-cfe2-47d7-c2cc-e37ce9790fb1"
      },
      "execution_count": 4,
      "outputs": [
        {
          "output_type": "stream",
          "name": "stdout",
          "text": [
            "요?\n",
            "\n",
            "파이썬과 R은 데이터 분석 및 머신러닝 분야에서 모두 인기 있는 프로그래밍 언어입니다. 그러나 두 언어는 목적과 사용 방식이 다릅니다.\n",
            "\n",
            "파이썬은 다목적 프로그래밍 언어로서, 데이터 분석을 비롯한 다양한 분야에서 사용됩니다. 파이썬은 간결하고 가독성이 좋은 문법을 가지고 있어 쉽게 배우고 사용할 수 있습니다. 또한 다양한 라이브러리와 패키지가 있어서 데이터 처리, 시각화, 머신러닝 등 다양한 작업을 빠르게 수행할 수 있습니다.\n",
            "\n",
            "반면, R은 통계 및 데이터 분석 분야에서 주로 사용되는 언어입니다. R은 통계 분석에\n"
          ]
        }
      ]
    },
    {
      "cell_type": "code",
      "source": [
        "from langchain_openai import OpenAI\n",
        "llm = OpenAI()\n",
        "llm = OpenAI(model_name = 'gpt-3.5-turbo-instruct', max_tokens = -1)\n",
        "result = llm.invoke('파에썬과 R을 비교해줄래?')\n",
        "print(result) #훨씬 길고 유익 (gpt 3 보다 gpt 3.5가 더 유익하기 때문임)"
      ],
      "metadata": {
        "id": "AlhiOh4wlBNB",
        "colab": {
          "base_uri": "https://localhost:8080/"
        },
        "outputId": "99ea2715-0145-4aab-ce4b-bf34741c334b"
      },
      "execution_count": 5,
      "outputs": [
        {
          "output_type": "stream",
          "name": "stdout",
          "text": [
            "\n",
            "\n",
            "Python과 R은 모두 데이터 분석 및 머신러닝 분야에서 많이 사용되는 프로그래밍 언어입니다. 다음은 파이썬과 R을 비교해보면서 각 언어의 장단점을 살펴보겠습니다.\n",
            "\n",
            "1. 문법\n",
            "- 파이썬: 문법이 간결하고 읽기 쉽습니다. C나 자바와 유사한 문법을 가지고 있어서 다른 프로그래밍 언어를 알고 있다면 빠르게 배울 수 있습니다.\n",
            "- R: 몇 가지 예외를 제외하고는 문법이 직관적이고 간단합니다. 하지만 파이썬에 비해 읽기가 다소 어렵습니다.\n",
            "\n",
            "2. 데이터 분석 기능\n",
            "- 파이썬: 넘파이, 판다스, 사이킷런 등 다양한 라이브러리를 사용하여 데이터 분석 및 머신러닝 기능을 제공합니다.\n",
            "- R: 데이터 분석에 최적화된 다양한 패키지가 제공되어 있어서 빠르고 쉽게 데이터를 분석할 수 있습니다.\n",
            "\n",
            "3. 데이터 시각화\n",
            "- 파이썬: 맷플롯립, 시본, 플로팅 등 다양한 라이브러리를 사용하여 데이터 시각화를 할 수 있습니다.\n",
            "- R: ggplot2 패키지를 통해 다양한 시각화 기능을 제공하며, 다양한 차트와 그래프를 쉽게 그릴 수 있습니다.\n",
            "\n",
            "4. 배우기 쉬운 정도\n",
            "- 파이썬: 다른 언어에 비해 배우기 쉬우며, 쉽게 익힐 수 있습니다.\n",
            "- R: 배우기 쉽지만 파이썬보다는 다소 어렵습니다. 하지만 데이터 분석을 위한 기초적인 내용을 익히는 데에는 어려움이 없습니다.\n",
            "\n",
            "5. 활용 분야\n",
            "- 파이썬: 웹 개발, 게임 개발, 시스템 개발 등 다양한 분야에서 활용됩니다.\n",
            "- R: 데이터 분석, 통계 분석 등 데이터와 관련된 분야에서 주로 사용됩니다.\n",
            "\n",
            "6. 커뮤니티 및 지원\n",
            "- 파이썬: 전 세계적으로 많이 사용되는 언어이며, 다양한 온라인 커뮤니티와 지원자료가 많이 있습니다.\n",
            "- R: 데이터 분석 분야에서 많이 사용되기 때문에 R을 사용하는 사람들 간의 커뮤니티가 활발하며, 다양한 패키지와 지원자료가 많이 있습니다.\n",
            "\n",
            "7. 장단점\n",
            "- 파이썬: 다양한 분야에서 활용할 수 있으며, 배우기 쉽고 다양한 라이브러리를 제공합니다. 하지만 데이터 분석을 위한 특화된 기능은 제공되지 않습니다.\n",
            "- R: 데이터 분석에 특화되어 있어서 다양한 통계 분석 기능을 제공하며, 데이터 시각화도 우수합니다. 하지만 다른 분야에서는 활용할 수 있는 기능이 제한적입니다.\n",
            "\n",
            "따라서 파이썬은 다양한 분야에서 활용할 수 있는 범용적인 언어이고, R은 데이터 분석에 특화된 언어로 각각의 장단점을 고려하여 적절한 상황에 따라 선택해야 합니다. 또는 두 언어를 함께 사용하여 데이터 분석과 머신러닝을 더욱 효율적으로 할 수도 있습니다.\n"
          ]
        }
      ]
    },
    {
      "cell_type": "markdown",
      "source": [
        "ChatGPT API는 기본 OpenAI LLM들과 다른 Input 형식을 갖고 있습니다.\n",
        "\n",
        "ChatGPT는 대화에 특화된 LLM인만큼, 아래와 같은 2가지 독특한 매개변수를 지닙니다.\n",
        "\n",
        "---\n",
        "\n",
        "(1) SystemMessage: ChatGPT에게 역할을 부여하여, 대화의 맥락을 설정하는 메세지\n",
        "\n",
        "(2) HumanMessage: 사용자가 ChatGPT에게 대화 또는 요청을 위해 보내는 메세지\n",
        "\n",
        "위 두가지 형식을 적절히 활용하면, LLM을 더욱 효과적으로 사용할 수 있습니다."
      ],
      "metadata": {
        "id": "loZhVXkoDOyd"
      }
    },
    {
      "cell_type": "code",
      "source": [
        "from langchain_openai import ChatOpenAI\n",
        "\n",
        "chatgpt = ChatOpenAI(model_name=\"gpt-3.5-turbo\", max_tokens = 512)\n",
        "answer = chatgpt.invoke(\"파에썬과 R을 비교해줄래?\")\n",
        "print(answer.content)"
      ],
      "metadata": {
        "id": "lNpEGFZRvUSc",
        "colab": {
          "base_uri": "https://localhost:8080/"
        },
        "outputId": "defaf99f-ab7c-452d-c4dd-594eeaf30252"
      },
      "execution_count": 6,
      "outputs": [
        {
          "output_type": "stream",
          "name": "stdout",
          "text": [
            "물론입니다! Python과 R은 모두 데이터 분석 및 머신 러닝 분야에서 널리 사용되는 프로그래밍 언어입니다. 그러나 각 언어는 몇 가지 차이점이 있습니다.\n",
            "\n",
            "Python은 다목적 프로그래밍 언어로서 코드가 깔끔하고 가독성이 높으며 다양한 라이브러리와 패키지를 제공하여 데이터 과학 및 머신 러닝 분야에서 널리 사용됩니다. 머신 러닝 프레임워크인 TensorFlow와 PyTorch와 같은 강력한 도구들이 Python에서 쉽게 사용할 수 있습니다.\n",
            "\n",
            "반면에, R은 통계 및 데이터 분석을 위한 특화된 언어로 설계되었습니다. R은 데이터 시각화 및 통계 분석에 강점을 가지고 있으며 다양한 통계 패키지를 제공합니다. 또한 R은 데이터프레임이나 매트릭스와 같은 데이터 구조를 효율적으로 다룰 수 있는 기능을 가지고 있습니다.\n",
            "\n",
            "이러한 점을 고려하면, Python은 일반적인 프로그래밍 작업과 머신 러닝 분야에서 널리 사용되는 반면에, R은 통계 및 데이터 분석에 특화된 언어로 사용됩니다. 데이터 과학 분야에서는 주로 Python을 사용하지만, 통계 분석이나 데이터 시각화에는 R을 사용하는 경우도 있습니다. 현재는 두 언어를 함께 사용하는 추세도 늘어나고 있습니다.\n"
          ]
        }
      ]
    },
    {
      "cell_type": "code",
      "source": [
        "answer"
      ],
      "metadata": {
        "colab": {
          "base_uri": "https://localhost:8080/"
        },
        "id": "RKZbTRHjQWLF",
        "outputId": "88024871-9564-49c1-b696-a873675ca27d"
      },
      "execution_count": 7,
      "outputs": [
        {
          "output_type": "execute_result",
          "data": {
            "text/plain": [
              "AIMessage(content='물론입니다! Python과 R은 모두 데이터 분석 및 머신 러닝 분야에서 널리 사용되는 프로그래밍 언어입니다. 그러나 각 언어는 몇 가지 차이점이 있습니다.\\n\\nPython은 다목적 프로그래밍 언어로서 코드가 깔끔하고 가독성이 높으며 다양한 라이브러리와 패키지를 제공하여 데이터 과학 및 머신 러닝 분야에서 널리 사용됩니다. 머신 러닝 프레임워크인 TensorFlow와 PyTorch와 같은 강력한 도구들이 Python에서 쉽게 사용할 수 있습니다.\\n\\n반면에, R은 통계 및 데이터 분석을 위한 특화된 언어로 설계되었습니다. R은 데이터 시각화 및 통계 분석에 강점을 가지고 있으며 다양한 통계 패키지를 제공합니다. 또한 R은 데이터프레임이나 매트릭스와 같은 데이터 구조를 효율적으로 다룰 수 있는 기능을 가지고 있습니다.\\n\\n이러한 점을 고려하면, Python은 일반적인 프로그래밍 작업과 머신 러닝 분야에서 널리 사용되는 반면에, R은 통계 및 데이터 분석에 특화된 언어로 사용됩니다. 데이터 과학 분야에서는 주로 Python을 사용하지만, 통계 분석이나 데이터 시각화에는 R을 사용하는 경우도 있습니다. 현재는 두 언어를 함께 사용하는 추세도 늘어나고 있습니다.', additional_kwargs={'refusal': None}, response_metadata={'token_usage': {'completion_tokens': 485, 'prompt_tokens': 24, 'total_tokens': 509, 'completion_tokens_details': {'accepted_prediction_tokens': 0, 'audio_tokens': 0, 'reasoning_tokens': 0, 'rejected_prediction_tokens': 0}, 'prompt_tokens_details': {'audio_tokens': 0, 'cached_tokens': 0}}, 'model_name': 'gpt-3.5-turbo-0125', 'system_fingerprint': None, 'id': 'chatcmpl-BlcK4j8rIB3xF1pTqmr0vHHyPqjjm', 'service_tier': 'default', 'finish_reason': 'stop', 'logprobs': None}, id='run--a31edc5b-f0fa-4b86-9ac7-fc51bb85bbab-0', usage_metadata={'input_tokens': 24, 'output_tokens': 485, 'total_tokens': 509, 'input_token_details': {'audio': 0, 'cache_read': 0}, 'output_token_details': {'audio': 0, 'reasoning': 0}})"
            ]
          },
          "metadata": {},
          "execution_count": 7
        }
      ]
    },
    {
      "cell_type": "markdown",
      "source": [
        "### (2) 매개변수 조절해보기"
      ],
      "metadata": {
        "id": "c8SCTlM8RwXJ"
      }
    },
    {
      "cell_type": "markdown",
      "source": [
        "#### Temperature의 의미 이해해보기"
      ],
      "metadata": {
        "id": "lI4_65iTkIvC"
      }
    },
    {
      "cell_type": "code",
      "source": [
        "chatgpt_temp0_1 = ChatOpenAI(model_name=\"gpt-3.5-turbo\", temperature = 0, max_tokens = 512)\n",
        "chatgpt_temp0_2 = ChatOpenAI(model_name=\"gpt-3.5-turbo\", temperature = 0, max_tokens = 512)\n",
        "#temperatrure 0 - 정석 및 지식이 필요할 때\n",
        "# temperature 1 - 창의적인 작업을 할 때 높은 값 (e.g., 소설을 쓸 때)\n",
        "chatgpt_temp1_1 = ChatOpenAI(model_name=\"gpt-3.5-turbo\", temperature = 1, max_tokens = 512)\n",
        "chatgpt_temp1_2 = ChatOpenAI(model_name=\"gpt-3.5-turbo\", temperature = 1, max_tokens = 512)\n",
        "\n",
        "model_list = [chatgpt_temp0_1, chatgpt_temp0_2, chatgpt_temp1_1, chatgpt_temp1_2]\n",
        "\n",
        "for i in model_list:\n",
        "    answer = i.invoke(\"파에싼과 R를 비교해줄래?\", max_tokens = 128)\n",
        "    print(\"-\"*100)\n",
        "    print(\">>>\",answer.content) #똑같은 질문을 하면 답이 비슷한데.."
      ],
      "metadata": {
        "id": "MAVXlKhME4Ri",
        "colab": {
          "base_uri": "https://localhost:8080/"
        },
        "outputId": "35c88d91-0438-434b-90a3-e183f720a8b7"
      },
      "execution_count": 8,
      "outputs": [
        {
          "output_type": "stream",
          "name": "stdout",
          "text": [
            "----------------------------------------------------------------------------------------------------\n",
            ">>> 물론이죠! 파에싼과 R은 모두 데이터 분석 및 통계 분석을 위한 프로그래밍 언어이지만, 각각의 특징과 용도가 다릅니다.\n",
            "\n",
            "1. 파에싼(Python):\n",
            "- 파에싼은 다양한 분야에서 사용되는 범용 프로그래밍 언어로, 데이터 분석 및 머신러닝 분야에서도\n",
            "----------------------------------------------------------------------------------------------------\n",
            ">>> 물론이죠! 파에싼과 R은 모두 데이터 분석 및 통계 분석을 위한 프로그래밍 언어이지만, 각각의 특징과 용도가 다릅니다.\n",
            "\n",
            "1. 파에싼(Python):\n",
            "- 파에싼은 다양한 분야에서 사용되는 범용 프로그래밍 언어로, 데이터 분석 및 머신러닝 분야에서도\n",
            "----------------------------------------------------------------------------------------------------\n",
            ">>> 물론이죠! 파에싼과 R은 모두 데이터 분석 및 통계 처리에 사용되는 프로그래밍 언어이지만, 각각의 특징과 장단점이 있습니다.\n",
            "\n",
            "파에싼은 특히 통계 분석이나 머신 러닝 분야에서 널리 사용되며 플롯을 그리고 데이터 시각화에 매\n",
            "----------------------------------------------------------------------------------------------------\n",
            ">>> 파에싼은 엔진 업그레이드와 속도 판매에서 뛰어나며, 내구성과 내장 품질이 좋다는 평가를 받고 있습니다. 반면 R은 디자인과 제어성이 뛰어나며, 주행성능과 커넥티비티에서 우수한 성능을 보여주고 있습니다. 두 차종은 각각의 강\n"
          ]
        }
      ]
    },
    {
      "cell_type": "markdown",
      "source": [
        "####ChatGPT처럼 실시간 응답 출력이 가능하도록 해보기"
      ],
      "metadata": {
        "id": "7zTLQ1KRj3g1"
      }
    },
    {
      "cell_type": "code",
      "source": [
        "from langchain.callbacks.streaming_stdout import StreamingStdOutCallbackHandler #타이핑 하듯이 답변이 나옴... (call back 넣기)\n",
        "#직접 구축하는 단계에서 나름대로 굉장히 중요함... 마냥 기다리라고 하는 것 보다 낫기 때문..\n",
        "chatgpt = ChatOpenAI(model_name=\"gpt-3.5-turbo\", streaming=True, callbacks=[StreamingStdOutCallbackHandler()], temperature = 1)\n",
        "answer = chatgpt.predict(\"파에썬과 R를 비교해줄래?\")"
      ],
      "metadata": {
        "id": "cpYBDyOYIeS9",
        "colab": {
          "base_uri": "https://localhost:8080/"
        },
        "outputId": "0f4c4547-f55d-467d-887b-4b5d650e11e4"
      },
      "execution_count": 9,
      "outputs": [
        {
          "output_type": "stream",
          "name": "stderr",
          "text": [
            "/tmp/ipython-input-9-1870585311.py:4: LangChainDeprecationWarning: The method `BaseChatModel.predict` was deprecated in langchain-core 0.1.7 and will be removed in 1.0. Use :meth:`~invoke` instead.\n",
            "  answer = chatgpt.predict(\"파에썬과 R를 비교해줄래?\")\n"
          ]
        },
        {
          "output_type": "stream",
          "name": "stdout",
          "text": [
            "물론이죠! 여기 파이썬과 R의 비교를 제시해 볼게요.\n",
            "\n",
            "1. 사용 용도:\n",
            "- 파이썬: 다목적으로 사용할 수 있는 범용 프로그래밍 언어로, 데이터 분석, 머신 러닝, 웹 개발 등 다양한 분야에 활용됩니다.\n",
            "- R: 데이터 분석 및 통계 분석에 특화된 프로그래밍 언어로, 통계학자나 데이터 분석가들 사이에서 주로 사용됩니다.\n",
            "\n",
            "2. 문법:\n",
            "- 파이썬: 비교적 간결한 문법을 가지고 있어 초보자가 쉽게 접근할 수 있습니다.\n",
            "- R: 통계 분석을 위한 다양한 함수와 패키지를 제공하므로 통계 분석에 익숙한 사용자에게는 친숙할 수 있지만, 복잡한 문법을 가지고 있을 수 있습니다.\n",
            "\n",
            "3. 시각화:\n",
            "- 파이썬: matplotlib, seaborn, plotly 등 다양한 시각화 라이브러리를 제공하여 다양한 그래프를 그릴 수 있습니다.\n",
            "- R: ggplot2를 비롯한 다양한 시각화 패키지를 제공하여 매우 고품질의 그래프를 생성할 수 있습니다.\n",
            "\n",
            "4. 커뮤니티 및 생태계:\n",
            "- 파이썬: 다양한 라이브러리 및 패키지가 개발되어 있으며, 커뮤니티가 활발하여 도움을 받기 쉽습니다.\n",
            "- R: 통계 및 데이터 분석 분야에서 강력한 생태계를 가지고 있으며, 통계학자들을 중심으로 온라인 커뮤니티가 활발합니다.\n",
            "\n",
            "이렇게 파이썬과 R은 각각의 특징과 장단점이 있으므로, 사용자의 목적과 선호도에 따라 선택해야 합니다."
          ]
        }
      ]
    },
    {
      "cell_type": "code",
      "source": [
        "for chunk in chatgpt.stream(\n",
        "    \"파에싼과 R를 비교해줄래?\"\n",
        "):\n",
        "    print(chunk.content, end=\"\", flush=True) #system message;"
      ],
      "metadata": {
        "id": "5BQ2BCeLnAJQ",
        "colab": {
          "base_uri": "https://localhost:8080/"
        },
        "outputId": "aacd9c48-294f-4a72-af2e-98c697099eef"
      },
      "execution_count": 10,
      "outputs": [
        {
          "output_type": "stream",
          "name": "stdout",
          "text": [
            "두두 용 용어어의의 비 비교교를를 도 도와와드드리리겠겠습니다습니다.\n",
            "\n",
            ".\n",
            "\n",
            "파파에에싼싼은은 파 파이이썬썬(P(Pythonython)) 프 프로그로그래래밍밍 언 언어어와와 관 관련련된된 용 용어어로로,, ' 'PythonPython''과과 ' 'lessonlesson'' 의 의 합 합성성어어로로 파 파이이썬썬을을 가 가르르치치는는 수 수업업 또 또는는 교 교육육을을 뜻 뜻합니다합니다.\n",
            "\n",
            ".\n",
            "\n",
            "반반면면에에 R R은은 데이터 데이터 분 분석석을을 위 위해해 사용 사용되되는는 프 프로그로그래래밍밍 언 언어어이이며며,, 특 특히히 통 통계계학학과과 데이터 데이터 과 과학학 분 분야야에서에서 널 널리리 사용 사용됩니다됩니다.. R R은은 데이터 데이터 시 시각각화화,, 통 통계계 분 분석석,, 머 머신신러러닝닝 등 등 다 다양양한한 분 분야야에서에서 활 활용용되되는는 강 강력력한한 도 도구구로로 평 평가가받받고고 있 있습니다습니다.\n",
            "\n",
            ".\n",
            "\n",
            "따따라라서서,, 파 파에에싼싼은은 파 파이이썬썬을을 가 가르르치치는는 교 교육육 활 활동동을을 의 의미미하하고고 R R은은 데이터 데이터 분 분석석 및 및 통 통계계 분 분야야에서에서 사용 사용되되는는 프 프로그로그래래밍밍 언 언어어로로 각 각각각 다 다른른 용 용도도와와 영 영역역에서에서 사용 사용되되고고 있 있습니다습니다.."
          ]
        }
      ]
    },
    {
      "cell_type": "markdown",
      "source": [
        "#### ChatGPT에게 역할 부여하기"
      ],
      "metadata": {
        "id": "V6TY-7s0kO2q"
      }
    },
    {
      "cell_type": "code",
      "source": [
        "chatgpt = ChatOpenAI(model_name=\"gpt-3.5-turbo\", temperature = 1)\n",
        "response_langchain = chatgpt.invoke(\"파이썬의 장점에 대해서 설명해줘.\")\n",
        "print(response_langchain.content)"
      ],
      "metadata": {
        "id": "3N6HFnz5koPZ",
        "colab": {
          "base_uri": "https://localhost:8080/"
        },
        "outputId": "c5318328-db13-45c6-cdf9-ad790e58f7f8"
      },
      "execution_count": 11,
      "outputs": [
        {
          "output_type": "stream",
          "name": "stdout",
          "text": [
            "1. 간단한 문법 구조: 파이썬은 가독성이 높고 간결한 문법을 가지고 있어 쉽게 학습할 수 있습니다. 이러한 특징으로 인해 프로그래밍 입문자들이 쉽게 배울 수 있으며, 코드 작성 시 실수를 줄일 수 있습니다.\n",
            "\n",
            "2. 다양한 라이브러리와 모듈: 파이썬은 다양한 라이브러리와 모듈이 많이 개발되어 있어, 개발 시간을 단축하고 프로젝트를 효율적으로 진행할 수 있습니다. 또한, 이러한 라이브러리와 모듈은 데이터 분석, 머신러닝, 웹 개발 등 다양한 분야에서 활용될 수 있습니다.\n",
            "\n",
            "3. 크로스 플랫폼 지원: 파이썬은 윈도우, 맥 OS, 리눅스 등 다양한 운영체제에서 동작하기 때문에 개발 환경을 선택하는데 제약이 없습니다. 이는 개발자가 유연하게 작업을 할 수 있도록 도와줍니다.\n",
            "\n",
            "4. 커뮤니티 지원: 파이썬은 전세계적으로 많은 개발자들이 사용하고 있기 때문에 활발한 커뮤니티가 형성되어 있습니다. 이를 통해 다른 개발자들과 정보를 공유하고 문제를 해결할 수 있으며, 학습 및 개발에 도움을 받을 수 있습니다.\n",
            "\n",
            "5. 확장성과 유연성: 파이썬은 모듈화가 잘 되어 있고 다른 언어와의 통합이 용이하기 때문에 다른 프로그래밍 언어와 함께 사용할 수 있습니다. 또한, 다른 언어와의 인터페이스 개발이 쉬우며 개발 속도가 빠르기 때문에 유연하고 확장성 있는 프로그램을 만들 수 있습니다.\n"
          ]
        }
      ]
    },
    {
      "cell_type": "code",
      "source": [
        "pip install langchain-community\n"
      ],
      "metadata": {
        "colab": {
          "base_uri": "https://localhost:8080/"
        },
        "id": "FGoxwEUyKn_s",
        "outputId": "262f2de9-1617-43e3-cdac-769fda6162d5"
      },
      "execution_count": 13,
      "outputs": [
        {
          "output_type": "stream",
          "name": "stdout",
          "text": [
            "Collecting langchain-community\n",
            "  Downloading langchain_community-0.3.26-py3-none-any.whl.metadata (2.9 kB)\n",
            "Requirement already satisfied: langchain-core<1.0.0,>=0.3.66 in /usr/local/lib/python3.11/dist-packages (from langchain-community) (0.3.66)\n",
            "Requirement already satisfied: langchain<1.0.0,>=0.3.26 in /usr/local/lib/python3.11/dist-packages (from langchain-community) (0.3.26)\n",
            "Requirement already satisfied: SQLAlchemy<3,>=1.4 in /usr/local/lib/python3.11/dist-packages (from langchain-community) (2.0.41)\n",
            "Requirement already satisfied: requests<3,>=2 in /usr/local/lib/python3.11/dist-packages (from langchain-community) (2.32.3)\n",
            "Requirement already satisfied: PyYAML>=5.3 in /usr/local/lib/python3.11/dist-packages (from langchain-community) (6.0.2)\n",
            "Requirement already satisfied: aiohttp<4.0.0,>=3.8.3 in /usr/local/lib/python3.11/dist-packages (from langchain-community) (3.11.15)\n",
            "Requirement already satisfied: tenacity!=8.4.0,<10,>=8.1.0 in /usr/local/lib/python3.11/dist-packages (from langchain-community) (9.1.2)\n",
            "Collecting dataclasses-json<0.7,>=0.5.7 (from langchain-community)\n",
            "  Downloading dataclasses_json-0.6.7-py3-none-any.whl.metadata (25 kB)\n",
            "Collecting pydantic-settings<3.0.0,>=2.4.0 (from langchain-community)\n",
            "  Downloading pydantic_settings-2.10.0-py3-none-any.whl.metadata (3.4 kB)\n",
            "Requirement already satisfied: langsmith>=0.1.125 in /usr/local/lib/python3.11/dist-packages (from langchain-community) (0.3.45)\n",
            "Collecting httpx-sse<1.0.0,>=0.4.0 (from langchain-community)\n",
            "  Downloading httpx_sse-0.4.0-py3-none-any.whl.metadata (9.0 kB)\n",
            "Requirement already satisfied: numpy>=1.26.2 in /usr/local/lib/python3.11/dist-packages (from langchain-community) (2.0.2)\n",
            "Requirement already satisfied: aiohappyeyeballs>=2.3.0 in /usr/local/lib/python3.11/dist-packages (from aiohttp<4.0.0,>=3.8.3->langchain-community) (2.6.1)\n",
            "Requirement already satisfied: aiosignal>=1.1.2 in /usr/local/lib/python3.11/dist-packages (from aiohttp<4.0.0,>=3.8.3->langchain-community) (1.3.2)\n",
            "Requirement already satisfied: attrs>=17.3.0 in /usr/local/lib/python3.11/dist-packages (from aiohttp<4.0.0,>=3.8.3->langchain-community) (25.3.0)\n",
            "Requirement already satisfied: frozenlist>=1.1.1 in /usr/local/lib/python3.11/dist-packages (from aiohttp<4.0.0,>=3.8.3->langchain-community) (1.7.0)\n",
            "Requirement already satisfied: multidict<7.0,>=4.5 in /usr/local/lib/python3.11/dist-packages (from aiohttp<4.0.0,>=3.8.3->langchain-community) (6.4.4)\n",
            "Requirement already satisfied: propcache>=0.2.0 in /usr/local/lib/python3.11/dist-packages (from aiohttp<4.0.0,>=3.8.3->langchain-community) (0.3.2)\n",
            "Requirement already satisfied: yarl<2.0,>=1.17.0 in /usr/local/lib/python3.11/dist-packages (from aiohttp<4.0.0,>=3.8.3->langchain-community) (1.20.1)\n",
            "Collecting marshmallow<4.0.0,>=3.18.0 (from dataclasses-json<0.7,>=0.5.7->langchain-community)\n",
            "  Downloading marshmallow-3.26.1-py3-none-any.whl.metadata (7.3 kB)\n",
            "Collecting typing-inspect<1,>=0.4.0 (from dataclasses-json<0.7,>=0.5.7->langchain-community)\n",
            "  Downloading typing_inspect-0.9.0-py3-none-any.whl.metadata (1.5 kB)\n",
            "Requirement already satisfied: langchain-text-splitters<1.0.0,>=0.3.8 in /usr/local/lib/python3.11/dist-packages (from langchain<1.0.0,>=0.3.26->langchain-community) (0.3.8)\n",
            "Requirement already satisfied: pydantic<3.0.0,>=2.7.4 in /usr/local/lib/python3.11/dist-packages (from langchain<1.0.0,>=0.3.26->langchain-community) (2.11.7)\n",
            "Requirement already satisfied: jsonpatch<2.0,>=1.33 in /usr/local/lib/python3.11/dist-packages (from langchain-core<1.0.0,>=0.3.66->langchain-community) (1.33)\n",
            "Requirement already satisfied: packaging<25,>=23.2 in /usr/local/lib/python3.11/dist-packages (from langchain-core<1.0.0,>=0.3.66->langchain-community) (24.2)\n",
            "Requirement already satisfied: typing-extensions>=4.7 in /usr/local/lib/python3.11/dist-packages (from langchain-core<1.0.0,>=0.3.66->langchain-community) (4.14.0)\n",
            "Requirement already satisfied: httpx<1,>=0.23.0 in /usr/local/lib/python3.11/dist-packages (from langsmith>=0.1.125->langchain-community) (0.28.1)\n",
            "Requirement already satisfied: orjson<4.0.0,>=3.9.14 in /usr/local/lib/python3.11/dist-packages (from langsmith>=0.1.125->langchain-community) (3.10.18)\n",
            "Requirement already satisfied: requests-toolbelt<2.0.0,>=1.0.0 in /usr/local/lib/python3.11/dist-packages (from langsmith>=0.1.125->langchain-community) (1.0.0)\n",
            "Requirement already satisfied: zstandard<0.24.0,>=0.23.0 in /usr/local/lib/python3.11/dist-packages (from langsmith>=0.1.125->langchain-community) (0.23.0)\n",
            "Collecting python-dotenv>=0.21.0 (from pydantic-settings<3.0.0,>=2.4.0->langchain-community)\n",
            "  Downloading python_dotenv-1.1.0-py3-none-any.whl.metadata (24 kB)\n",
            "Requirement already satisfied: typing-inspection>=0.4.0 in /usr/local/lib/python3.11/dist-packages (from pydantic-settings<3.0.0,>=2.4.0->langchain-community) (0.4.1)\n",
            "Requirement already satisfied: charset-normalizer<4,>=2 in /usr/local/lib/python3.11/dist-packages (from requests<3,>=2->langchain-community) (3.4.2)\n",
            "Requirement already satisfied: idna<4,>=2.5 in /usr/local/lib/python3.11/dist-packages (from requests<3,>=2->langchain-community) (3.10)\n",
            "Requirement already satisfied: urllib3<3,>=1.21.1 in /usr/local/lib/python3.11/dist-packages (from requests<3,>=2->langchain-community) (2.4.0)\n",
            "Requirement already satisfied: certifi>=2017.4.17 in /usr/local/lib/python3.11/dist-packages (from requests<3,>=2->langchain-community) (2025.6.15)\n",
            "Requirement already satisfied: greenlet>=1 in /usr/local/lib/python3.11/dist-packages (from SQLAlchemy<3,>=1.4->langchain-community) (3.2.3)\n",
            "Requirement already satisfied: anyio in /usr/local/lib/python3.11/dist-packages (from httpx<1,>=0.23.0->langsmith>=0.1.125->langchain-community) (4.9.0)\n",
            "Requirement already satisfied: httpcore==1.* in /usr/local/lib/python3.11/dist-packages (from httpx<1,>=0.23.0->langsmith>=0.1.125->langchain-community) (1.0.9)\n",
            "Requirement already satisfied: h11>=0.16 in /usr/local/lib/python3.11/dist-packages (from httpcore==1.*->httpx<1,>=0.23.0->langsmith>=0.1.125->langchain-community) (0.16.0)\n",
            "Requirement already satisfied: jsonpointer>=1.9 in /usr/local/lib/python3.11/dist-packages (from jsonpatch<2.0,>=1.33->langchain-core<1.0.0,>=0.3.66->langchain-community) (3.0.0)\n",
            "Requirement already satisfied: annotated-types>=0.6.0 in /usr/local/lib/python3.11/dist-packages (from pydantic<3.0.0,>=2.7.4->langchain<1.0.0,>=0.3.26->langchain-community) (0.7.0)\n",
            "Requirement already satisfied: pydantic-core==2.33.2 in /usr/local/lib/python3.11/dist-packages (from pydantic<3.0.0,>=2.7.4->langchain<1.0.0,>=0.3.26->langchain-community) (2.33.2)\n",
            "Collecting mypy-extensions>=0.3.0 (from typing-inspect<1,>=0.4.0->dataclasses-json<0.7,>=0.5.7->langchain-community)\n",
            "  Downloading mypy_extensions-1.1.0-py3-none-any.whl.metadata (1.1 kB)\n",
            "Requirement already satisfied: sniffio>=1.1 in /usr/local/lib/python3.11/dist-packages (from anyio->httpx<1,>=0.23.0->langsmith>=0.1.125->langchain-community) (1.3.1)\n",
            "Downloading langchain_community-0.3.26-py3-none-any.whl (2.5 MB)\n",
            "\u001b[2K   \u001b[90m━━━━━━━━━━━━━━━━━━━━━━━━━━━━━━━━━━━━━━━━\u001b[0m \u001b[32m2.5/2.5 MB\u001b[0m \u001b[31m27.8 MB/s\u001b[0m eta \u001b[36m0:00:00\u001b[0m\n",
            "\u001b[?25hDownloading dataclasses_json-0.6.7-py3-none-any.whl (28 kB)\n",
            "Downloading httpx_sse-0.4.0-py3-none-any.whl (7.8 kB)\n",
            "Downloading pydantic_settings-2.10.0-py3-none-any.whl (45 kB)\n",
            "\u001b[2K   \u001b[90m━━━━━━━━━━━━━━━━━━━━━━━━━━━━━━━━━━━━━━━━\u001b[0m \u001b[32m45.2/45.2 kB\u001b[0m \u001b[31m3.1 MB/s\u001b[0m eta \u001b[36m0:00:00\u001b[0m\n",
            "\u001b[?25hDownloading marshmallow-3.26.1-py3-none-any.whl (50 kB)\n",
            "\u001b[2K   \u001b[90m━━━━━━━━━━━━━━━━━━━━━━━━━━━━━━━━━━━━━━━━\u001b[0m \u001b[32m50.9/50.9 kB\u001b[0m \u001b[31m4.0 MB/s\u001b[0m eta \u001b[36m0:00:00\u001b[0m\n",
            "\u001b[?25hDownloading python_dotenv-1.1.0-py3-none-any.whl (20 kB)\n",
            "Downloading typing_inspect-0.9.0-py3-none-any.whl (8.8 kB)\n",
            "Downloading mypy_extensions-1.1.0-py3-none-any.whl (5.0 kB)\n",
            "Installing collected packages: python-dotenv, mypy-extensions, marshmallow, httpx-sse, typing-inspect, pydantic-settings, dataclasses-json, langchain-community\n",
            "Successfully installed dataclasses-json-0.6.7 httpx-sse-0.4.0 langchain-community-0.3.26 marshmallow-3.26.1 mypy-extensions-1.1.0 pydantic-settings-2.10.0 python-dotenv-1.1.0 typing-inspect-0.9.0\n"
          ]
        }
      ]
    },
    {
      "cell_type": "code",
      "source": [
        "from langchain.chat_models import ChatOpenAI\n",
        "from langchain.schema import AIMessage, HumanMessage, SystemMessage\n",
        "\n",
        "chatgpt = ChatOpenAI(model_name=\"gpt-3.5-turbo\", temperature = 1)\n",
        "\n",
        "messages = [\n",
        "    SystemMessage(\n",
        "        content=\"너는 20년차 시니어 개발자야. 사용자의 질문에 매우 건방지게 대답해줘.\"\n",
        "    ),\n",
        "    HumanMessage(\n",
        "        content=\"파이썬의 장점에 대해서 설명해줘.\"\n",
        "    ),\n",
        "]\n",
        "response_langchain = chatgpt.invoke(messages)\n",
        "response_langchain.content"
      ],
      "metadata": {
        "id": "uNdmV96n0h15",
        "colab": {
          "base_uri": "https://localhost:8080/",
          "height": 124
        },
        "outputId": "3bfb4410-1681-4648-9687-4d8bdcf901df"
      },
      "execution_count": 14,
      "outputs": [
        {
          "output_type": "stream",
          "name": "stderr",
          "text": [
            "/tmp/ipython-input-14-3916558178.py:4: LangChainDeprecationWarning: The class `ChatOpenAI` was deprecated in LangChain 0.0.10 and will be removed in 1.0. An updated version of the class exists in the :class:`~langchain-openai package and should be used instead. To use it run `pip install -U :class:`~langchain-openai` and import as `from :class:`~langchain_openai import ChatOpenAI``.\n",
            "  chatgpt = ChatOpenAI(model_name=\"gpt-3.5-turbo\", temperature = 1)\n"
          ]
        },
        {
          "output_type": "execute_result",
          "data": {
            "text/plain": [
              "'음, 파이썬의 장점을 설명해주자면, 가장 큰 장점은 아마도 코드의 가독성과 간결함이라고 할 수 있어. 파이썬은 문법이 간단하고 직관적이어서 다른 프로그래밍 언어보다 코드를 읽고 이해하기가 쉽단다. 또한 다양한 라이브러리와 프레임워크가 풍부해서 빠르게 개발을 할 수 있고, 데이터 분석 및 인공지능 분야에서도 널리 사용되고 있어. 이 정도면 충분한 설명이지 않을까?'"
            ],
            "application/vnd.google.colaboratory.intrinsic+json": {
              "type": "string"
            }
          },
          "metadata": {},
          "execution_count": 14
        }
      ]
    },
    {
      "cell_type": "markdown",
      "source": [
        "### (3) LLM 응답 캐싱하여 같은 질문에 더 빠르게 응답받기"
      ],
      "metadata": {
        "id": "gGnI484wnegz"
      }
    },
    {
      "cell_type": "code",
      "source": [
        "from langchain.globals import set_llm_cache\n",
        "from langchain_openai import OpenAI\n",
        "\n",
        "# To make the caching really obvious, lets use a slower model.\n",
        "llm = OpenAI(model_name=\"gpt-3.5-turbo-instruct\", n=2, best_of=2)"
      ],
      "metadata": {
        "id": "naBYcNUknnlW"
      },
      "execution_count": 15,
      "outputs": []
    },
    {
      "cell_type": "code",
      "source": [
        "%%time\n",
        "from langchain.cache import InMemoryCache\n",
        "\n",
        "set_llm_cache(InMemoryCache())\n",
        "\n",
        "# The first time, it is not yet in cache, so it should take longer\n",
        "llm.predict(\"Tell me a joke\")"
      ],
      "metadata": {
        "id": "yySQYmftnjqR",
        "colab": {
          "base_uri": "https://localhost:8080/",
          "height": 107
        },
        "outputId": "1ee9b134-b6f5-4e3e-fc78-243291cd129f"
      },
      "execution_count": 16,
      "outputs": [
        {
          "output_type": "stream",
          "name": "stderr",
          "text": [
            "<timed exec>:6: LangChainDeprecationWarning: The method `BaseLLM.predict` was deprecated in langchain-core 0.1.7 and will be removed in 1.0. Use :meth:`~invoke` instead.\n"
          ]
        },
        {
          "output_type": "stream",
          "name": "stdout",
          "text": [
            "CPU times: user 1.47 s, sys: 71.5 ms, total: 1.54 s\n",
            "Wall time: 2.83 s\n"
          ]
        },
        {
          "output_type": "execute_result",
          "data": {
            "text/plain": [
              "\"\\n\\nWhy couldn't the bicycle stand up by itself? Because it was two-tired!\""
            ],
            "application/vnd.google.colaboratory.intrinsic+json": {
              "type": "string"
            }
          },
          "metadata": {},
          "execution_count": 16
        }
      ]
    },
    {
      "cell_type": "code",
      "source": [
        "%%time\n",
        "# The second time it is, so it goes faster\n",
        "llm.predict(\"Tell me a joke\")"
      ],
      "metadata": {
        "id": "4kx73L0gnsRY",
        "colab": {
          "base_uri": "https://localhost:8080/",
          "height": 70
        },
        "outputId": "7d7ba6eb-2373-49cf-d6c1-9f6e3c4633e4"
      },
      "execution_count": 17,
      "outputs": [
        {
          "output_type": "stream",
          "name": "stdout",
          "text": [
            "CPU times: user 487 µs, sys: 0 ns, total: 487 µs\n",
            "Wall time: 494 µs\n"
          ]
        },
        {
          "output_type": "execute_result",
          "data": {
            "text/plain": [
              "\"\\n\\nWhy couldn't the bicycle stand up by itself? Because it was two-tired!\""
            ],
            "application/vnd.google.colaboratory.intrinsic+json": {
              "type": "string"
            }
          },
          "metadata": {},
          "execution_count": 17
        }
      ]
    },
    {
      "cell_type": "markdown",
      "source": [
        "### (4) 실습해보기"
      ],
      "metadata": {
        "id": "zFoFB7OyNcY9"
      }
    },
    {
      "cell_type": "code",
      "source": [
        "from langchain_openai import ChatOpenAI\n",
        "from langchain.schema import HumanMessage, SystemMessage, AIMessage\n",
        "\n",
        "chat = ChatOpenAI(model_name = \"gpt-4-0125-preview\", temperature = 1,\n",
        "                  streaming=True, callbacks=[StreamingStdOutCallbackHandler()])\n",
        "answer = chat(\n",
        "  [\n",
        "    SystemMessage(content=\"\"\"당신은 공부 계획을 세워주는 스터디 플래너 머신입니다.\n",
        "    사용자의 공부 주제를 입력 받으면, 이를 학습하기 위한 공부 계획을 작성합니다.\"\"\"),\n",
        "    HumanMessage(content=\"Large Language Model에 대해서 공부하고 싶어요.\")\n",
        "  ]\n",
        ")\n"
      ],
      "metadata": {
        "id": "WGoz4nPsKfpi",
        "colab": {
          "base_uri": "https://localhost:8080/"
        },
        "outputId": "724ff748-fbff-4ced-cc76-fd3263162717"
      },
      "execution_count": 18,
      "outputs": [
        {
          "output_type": "stream",
          "name": "stderr",
          "text": [
            "/tmp/ipython-input-18-4095418739.py:6: LangChainDeprecationWarning: The method `BaseChatModel.__call__` was deprecated in langchain-core 0.1.7 and will be removed in 1.0. Use :meth:`~invoke` instead.\n",
            "  answer = chat(\n"
          ]
        },
        {
          "output_type": "stream",
          "name": "stdout",
          "text": [
            "Large Language Model(Large-Scale Language Models, LLM)에 대해 학습하고자 할 때, 학습 계획을 단계별로 구성할 수 있습니다. 아래의 계획은 해당 주제에 대한 깊은 이해를 위해 설계되었습니다.\n",
            "\n",
            "### 1. 기초 지식 습득 (1주차)\n",
            "- **목표**: 자연 언어 처리(Natural Language Processing, NLP)의 기초와 Large Language Models의 기본 개념 이해\n",
            "- **자료**:\n",
            "    - NLP 입문서 읽기\n",
            "    - “Introduction to Natural Language Processing” by Jacob Eisenstein 또는 비슷한 입문서\n",
            "    - Large Language Models에 대한 Wikipedia 페이지 및 다른 온라인 자료 검색\n",
            "- **활동**:\n",
            "    - NLP의 기본 개념과 용어(토큰화, 언어 모델링, 임베딩 등) 이해하기\n",
            "    - LLMs의 역사적 배경과 발전 과정 조사하기\n",
            "\n",
            "### 2. 기술적 깊이 이해 (2-3주차)\n",
            "- **목표**: Large Language Models의 내부 작동 원리와 기술적 측면 이해\n",
            "- **자료**:\n",
            "    - “Deep Learning for NLP” 강좌 또는 자료\n",
            "    - Transformer 모델에 대한 기술 논문(Google의 “Attention is All You Need” 등)\n",
            "    - 최신 LLMs(예: GPT-3, BERT)에 대한 연구 논문\n",
            "- **활동**:\n",
            "    - Transformer 구조와 작동 방식 이해하기\n",
            "    - GPT와 BERT 같은 대표적인 Large Language Models의 구조와 핵심 아이디어 파악하기\n",
            "    - 실제 코드나 프로젝트를 통해 모델을 실습해보기 (예: Hugging Face Transformers 라이브러리 사용)\n",
            "\n",
            "### 3. 심화 학습 및 적용 (4-6주차)\n",
            "- **목표**: 최신 LLM 연구 동향과 응용 분야에 대해 이해하고, 실제 문제 해결에 적용해보기\n",
            "- **자료**:\n",
            "    - arXiv 또는 AI 관련 학회의 최신 연구 논문 (NeurIPS, ICML, ACL 등)\n",
            "    - Large Language Models 관련된 케이스 스터디나 프로젝트\n",
            "    - AI/ML 관련 블로그 및 뉴스레터(예: Towards Data Science, The Gradient)\n",
            "- **활동**:\n",
            "    - 최신 LLMs의 개선점과 한계점 탐구하기\n",
            "    - 다양한 산업 및 연구 분야에서 LLMs의 적용 사례 탐색하기\n",
            "    - 자신만의 프로젝트 기획 및 실행, 예를 들어 특정 분야의 텍스트 데이터를 처리하거나 생성하는 모델 개발하기\n",
            "\n",
            "### 4. 회고 및 지식 공유 (7주차)\n",
            "- **목표**: 배운 내용 정리 및 경험 공유\n",
            "- **활동**:\n",
            "    - 공부한 내용을 기반으로 자신만의 요약 노트 작성\n",
            "    - 지식을 공유하기 위해 블로그 포스트 작성 또는 발표 준비\n",
            "    - 온라인 커뮤니티(예: Reddit, Stack Overflow)에 참여해 질문하고 답하기\n",
            "\n",
            "### 추가 자원:\n",
            "- AI 및 NLP 관련 온라인 공개 강좌(예: Coursera, edX, Udacity)\n",
            "- GitHub에서 오픈 소스 프로젝트 및 코드 검색\n",
            "- 기타 코딩 실습을 위한 플랫폼(예: Google Colab, Kaggle)\n",
            "\n",
            "이런 계획을 따르면 Large Language Models에 대한 포괄적인 이해를 얻고, 실제 문제에 적용할 수 있는 능력을 키울 수 있습니다. 학습 과정에서는 자기 주도적 학습 능력을 발휘하여 끊임없이 새로운 정보를 탐색하고 질문하며, 자신만의 프로젝트에 적극적으로 도전하는 것이 중요합니다."
          ]
        }
      ]
    },
    {
      "cell_type": "code",
      "source": [
        "#ChatGPT의 대답은 AIMessage라는 딕셔너리 형태로 제공됩니다.\n",
        "answer"
      ],
      "metadata": {
        "id": "8XmwfLtPOy0Q",
        "colab": {
          "base_uri": "https://localhost:8080/"
        },
        "outputId": "df4faa5d-8b24-438a-e5ff-0bb80f112245"
      },
      "execution_count": 19,
      "outputs": [
        {
          "output_type": "execute_result",
          "data": {
            "text/plain": [
              "AIMessage(content='Large Language Model(Large-Scale Language Models, LLM)에 대해 학습하고자 할 때, 학습 계획을 단계별로 구성할 수 있습니다. 아래의 계획은 해당 주제에 대한 깊은 이해를 위해 설계되었습니다.\\n\\n### 1. 기초 지식 습득 (1주차)\\n- **목표**: 자연 언어 처리(Natural Language Processing, NLP)의 기초와 Large Language Models의 기본 개념 이해\\n- **자료**:\\n    - NLP 입문서 읽기\\n    - “Introduction to Natural Language Processing” by Jacob Eisenstein 또는 비슷한 입문서\\n    - Large Language Models에 대한 Wikipedia 페이지 및 다른 온라인 자료 검색\\n- **활동**:\\n    - NLP의 기본 개념과 용어(토큰화, 언어 모델링, 임베딩 등) 이해하기\\n    - LLMs의 역사적 배경과 발전 과정 조사하기\\n\\n### 2. 기술적 깊이 이해 (2-3주차)\\n- **목표**: Large Language Models의 내부 작동 원리와 기술적 측면 이해\\n- **자료**:\\n    - “Deep Learning for NLP” 강좌 또는 자료\\n    - Transformer 모델에 대한 기술 논문(Google의 “Attention is All You Need” 등)\\n    - 최신 LLMs(예: GPT-3, BERT)에 대한 연구 논문\\n- **활동**:\\n    - Transformer 구조와 작동 방식 이해하기\\n    - GPT와 BERT 같은 대표적인 Large Language Models의 구조와 핵심 아이디어 파악하기\\n    - 실제 코드나 프로젝트를 통해 모델을 실습해보기 (예: Hugging Face Transformers 라이브러리 사용)\\n\\n### 3. 심화 학습 및 적용 (4-6주차)\\n- **목표**: 최신 LLM 연구 동향과 응용 분야에 대해 이해하고, 실제 문제 해결에 적용해보기\\n- **자료**:\\n    - arXiv 또는 AI 관련 학회의 최신 연구 논문 (NeurIPS, ICML, ACL 등)\\n    - Large Language Models 관련된 케이스 스터디나 프로젝트\\n    - AI/ML 관련 블로그 및 뉴스레터(예: Towards Data Science, The Gradient)\\n- **활동**:\\n    - 최신 LLMs의 개선점과 한계점 탐구하기\\n    - 다양한 산업 및 연구 분야에서 LLMs의 적용 사례 탐색하기\\n    - 자신만의 프로젝트 기획 및 실행, 예를 들어 특정 분야의 텍스트 데이터를 처리하거나 생성하는 모델 개발하기\\n\\n### 4. 회고 및 지식 공유 (7주차)\\n- **목표**: 배운 내용 정리 및 경험 공유\\n- **활동**:\\n    - 공부한 내용을 기반으로 자신만의 요약 노트 작성\\n    - 지식을 공유하기 위해 블로그 포스트 작성 또는 발표 준비\\n    - 온라인 커뮤니티(예: Reddit, Stack Overflow)에 참여해 질문하고 답하기\\n\\n### 추가 자원:\\n- AI 및 NLP 관련 온라인 공개 강좌(예: Coursera, edX, Udacity)\\n- GitHub에서 오픈 소스 프로젝트 및 코드 검색\\n- 기타 코딩 실습을 위한 플랫폼(예: Google Colab, Kaggle)\\n\\n이런 계획을 따르면 Large Language Models에 대한 포괄적인 이해를 얻고, 실제 문제에 적용할 수 있는 능력을 키울 수 있습니다. 학습 과정에서는 자기 주도적 학습 능력을 발휘하여 끊임없이 새로운 정보를 탐색하고 질문하며, 자신만의 프로젝트에 적극적으로 도전하는 것이 중요합니다.', additional_kwargs={}, response_metadata={'finish_reason': 'stop', 'model_name': 'gpt-4-0125-preview', 'service_tier': 'default'}, id='run--0add8a1c-5183-44d2-9064-bb53fa8412c6-0')"
            ]
          },
          "metadata": {},
          "execution_count": 19
        }
      ]
    },
    {
      "cell_type": "code",
      "source": [
        "#content를 key값으로 호출하여 를 통해 text만 출력할 수 있습니다.\n",
        "print(answer.content)"
      ],
      "metadata": {
        "id": "fanlIkSXK7zF",
        "colab": {
          "base_uri": "https://localhost:8080/"
        },
        "outputId": "00a0bdbe-c289-4adb-d282-99ac259f4846"
      },
      "execution_count": 20,
      "outputs": [
        {
          "output_type": "stream",
          "name": "stdout",
          "text": [
            "Large Language Model(Large-Scale Language Models, LLM)에 대해 학습하고자 할 때, 학습 계획을 단계별로 구성할 수 있습니다. 아래의 계획은 해당 주제에 대한 깊은 이해를 위해 설계되었습니다.\n",
            "\n",
            "### 1. 기초 지식 습득 (1주차)\n",
            "- **목표**: 자연 언어 처리(Natural Language Processing, NLP)의 기초와 Large Language Models의 기본 개념 이해\n",
            "- **자료**:\n",
            "    - NLP 입문서 읽기\n",
            "    - “Introduction to Natural Language Processing” by Jacob Eisenstein 또는 비슷한 입문서\n",
            "    - Large Language Models에 대한 Wikipedia 페이지 및 다른 온라인 자료 검색\n",
            "- **활동**:\n",
            "    - NLP의 기본 개념과 용어(토큰화, 언어 모델링, 임베딩 등) 이해하기\n",
            "    - LLMs의 역사적 배경과 발전 과정 조사하기\n",
            "\n",
            "### 2. 기술적 깊이 이해 (2-3주차)\n",
            "- **목표**: Large Language Models의 내부 작동 원리와 기술적 측면 이해\n",
            "- **자료**:\n",
            "    - “Deep Learning for NLP” 강좌 또는 자료\n",
            "    - Transformer 모델에 대한 기술 논문(Google의 “Attention is All You Need” 등)\n",
            "    - 최신 LLMs(예: GPT-3, BERT)에 대한 연구 논문\n",
            "- **활동**:\n",
            "    - Transformer 구조와 작동 방식 이해하기\n",
            "    - GPT와 BERT 같은 대표적인 Large Language Models의 구조와 핵심 아이디어 파악하기\n",
            "    - 실제 코드나 프로젝트를 통해 모델을 실습해보기 (예: Hugging Face Transformers 라이브러리 사용)\n",
            "\n",
            "### 3. 심화 학습 및 적용 (4-6주차)\n",
            "- **목표**: 최신 LLM 연구 동향과 응용 분야에 대해 이해하고, 실제 문제 해결에 적용해보기\n",
            "- **자료**:\n",
            "    - arXiv 또는 AI 관련 학회의 최신 연구 논문 (NeurIPS, ICML, ACL 등)\n",
            "    - Large Language Models 관련된 케이스 스터디나 프로젝트\n",
            "    - AI/ML 관련 블로그 및 뉴스레터(예: Towards Data Science, The Gradient)\n",
            "- **활동**:\n",
            "    - 최신 LLMs의 개선점과 한계점 탐구하기\n",
            "    - 다양한 산업 및 연구 분야에서 LLMs의 적용 사례 탐색하기\n",
            "    - 자신만의 프로젝트 기획 및 실행, 예를 들어 특정 분야의 텍스트 데이터를 처리하거나 생성하는 모델 개발하기\n",
            "\n",
            "### 4. 회고 및 지식 공유 (7주차)\n",
            "- **목표**: 배운 내용 정리 및 경험 공유\n",
            "- **활동**:\n",
            "    - 공부한 내용을 기반으로 자신만의 요약 노트 작성\n",
            "    - 지식을 공유하기 위해 블로그 포스트 작성 또는 발표 준비\n",
            "    - 온라인 커뮤니티(예: Reddit, Stack Overflow)에 참여해 질문하고 답하기\n",
            "\n",
            "### 추가 자원:\n",
            "- AI 및 NLP 관련 온라인 공개 강좌(예: Coursera, edX, Udacity)\n",
            "- GitHub에서 오픈 소스 프로젝트 및 코드 검색\n",
            "- 기타 코딩 실습을 위한 플랫폼(예: Google Colab, Kaggle)\n",
            "\n",
            "이런 계획을 따르면 Large Language Models에 대한 포괄적인 이해를 얻고, 실제 문제에 적용할 수 있는 능력을 키울 수 있습니다. 학습 과정에서는 자기 주도적 학습 능력을 발휘하여 끊임없이 새로운 정보를 탐색하고 질문하며, 자신만의 프로젝트에 적극적으로 도전하는 것이 중요합니다.\n"
          ]
        }
      ]
    },
    {
      "cell_type": "code",
      "source": [],
      "metadata": {
        "id": "I8p2I58nPpxN"
      },
      "execution_count": null,
      "outputs": []
    }
  ],
  "metadata": {
    "colab": {
      "provenance": [],
      "include_colab_link": true
    },
    "kernelspec": {
      "display_name": "Python 3",
      "name": "python3"
    },
    "language_info": {
      "name": "python"
    }
  },
  "nbformat": 4,
  "nbformat_minor": 0
}