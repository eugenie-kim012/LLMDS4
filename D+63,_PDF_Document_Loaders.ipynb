{
  "cells": [
    {
      "cell_type": "markdown",
      "metadata": {
        "id": "view-in-github",
        "colab_type": "text"
      },
      "source": [
        "<a href=\"https://colab.research.google.com/github/eugenie-kim012/LLMDS4/blob/main/D%2B63%2C_PDF_Document_Loaders.ipynb\" target=\"_parent\"><img src=\"https://colab.research.google.com/assets/colab-badge.svg\" alt=\"Open In Colab\"/></a>"
      ]
    },
    {
      "cell_type": "markdown",
      "id": "51fd9159-e8ba-477b-9b20-a22438307df1",
      "metadata": {
        "id": "51fd9159-e8ba-477b-9b20-a22438307df1"
      },
      "source": [
        "## **PDF Loaders**"
      ]
    },
    {
      "cell_type": "code",
      "source": [
        "# 구글 드라이브 연결 (연결은 필수)\n",
        "\n",
        "from google.colab import drive\n",
        "drive.mount('/content/drive') #구글 드라이브 전체와 연결하는 함수"
      ],
      "metadata": {
        "id": "NSTFyL4mtyYr",
        "colab": {
          "base_uri": "https://localhost:8080/"
        },
        "outputId": "32e70594-2e43-4cde-b066-eea88404fa5a"
      },
      "id": "NSTFyL4mtyYr",
      "execution_count": 9,
      "outputs": [
        {
          "output_type": "stream",
          "name": "stdout",
          "text": [
            "Mounted at /content/drive\n"
          ]
        }
      ]
    },
    {
      "cell_type": "code",
      "execution_count": 10,
      "id": "5783fe14-26b1-4488-8c03-88d254f43ca9",
      "metadata": {
        "id": "5783fe14-26b1-4488-8c03-88d254f43ca9",
        "colab": {
          "base_uri": "https://localhost:8080/"
        },
        "outputId": "50f90348-645c-4d47-d4dc-a22d9810b225"
      },
      "outputs": [
        {
          "output_type": "stream",
          "name": "stdout",
          "text": [
            "Requirement already satisfied: langchain in /usr/local/lib/python3.11/dist-packages (0.3.26)\n",
            "Requirement already satisfied: langchain-community in /usr/local/lib/python3.11/dist-packages (0.3.26)\n",
            "Requirement already satisfied: pypdf in /usr/local/lib/python3.11/dist-packages (5.6.1)\n",
            "Requirement already satisfied: langchain-core<1.0.0,>=0.3.66 in /usr/local/lib/python3.11/dist-packages (from langchain) (0.3.66)\n",
            "Requirement already satisfied: langchain-text-splitters<1.0.0,>=0.3.8 in /usr/local/lib/python3.11/dist-packages (from langchain) (0.3.8)\n",
            "Requirement already satisfied: langsmith>=0.1.17 in /usr/local/lib/python3.11/dist-packages (from langchain) (0.3.45)\n",
            "Requirement already satisfied: pydantic<3.0.0,>=2.7.4 in /usr/local/lib/python3.11/dist-packages (from langchain) (2.11.7)\n",
            "Requirement already satisfied: SQLAlchemy<3,>=1.4 in /usr/local/lib/python3.11/dist-packages (from langchain) (2.0.41)\n",
            "Requirement already satisfied: requests<3,>=2 in /usr/local/lib/python3.11/dist-packages (from langchain) (2.32.3)\n",
            "Requirement already satisfied: PyYAML>=5.3 in /usr/local/lib/python3.11/dist-packages (from langchain) (6.0.2)\n",
            "Requirement already satisfied: aiohttp<4.0.0,>=3.8.3 in /usr/local/lib/python3.11/dist-packages (from langchain-community) (3.11.15)\n",
            "Requirement already satisfied: tenacity!=8.4.0,<10,>=8.1.0 in /usr/local/lib/python3.11/dist-packages (from langchain-community) (9.1.2)\n",
            "Requirement already satisfied: dataclasses-json<0.7,>=0.5.7 in /usr/local/lib/python3.11/dist-packages (from langchain-community) (0.6.7)\n",
            "Requirement already satisfied: pydantic-settings<3.0.0,>=2.4.0 in /usr/local/lib/python3.11/dist-packages (from langchain-community) (2.10.0)\n",
            "Requirement already satisfied: httpx-sse<1.0.0,>=0.4.0 in /usr/local/lib/python3.11/dist-packages (from langchain-community) (0.4.0)\n",
            "Requirement already satisfied: numpy>=1.26.2 in /usr/local/lib/python3.11/dist-packages (from langchain-community) (2.0.2)\n",
            "Requirement already satisfied: aiohappyeyeballs>=2.3.0 in /usr/local/lib/python3.11/dist-packages (from aiohttp<4.0.0,>=3.8.3->langchain-community) (2.6.1)\n",
            "Requirement already satisfied: aiosignal>=1.1.2 in /usr/local/lib/python3.11/dist-packages (from aiohttp<4.0.0,>=3.8.3->langchain-community) (1.3.2)\n",
            "Requirement already satisfied: attrs>=17.3.0 in /usr/local/lib/python3.11/dist-packages (from aiohttp<4.0.0,>=3.8.3->langchain-community) (25.3.0)\n",
            "Requirement already satisfied: frozenlist>=1.1.1 in /usr/local/lib/python3.11/dist-packages (from aiohttp<4.0.0,>=3.8.3->langchain-community) (1.7.0)\n",
            "Requirement already satisfied: multidict<7.0,>=4.5 in /usr/local/lib/python3.11/dist-packages (from aiohttp<4.0.0,>=3.8.3->langchain-community) (6.4.4)\n",
            "Requirement already satisfied: propcache>=0.2.0 in /usr/local/lib/python3.11/dist-packages (from aiohttp<4.0.0,>=3.8.3->langchain-community) (0.3.2)\n",
            "Requirement already satisfied: yarl<2.0,>=1.17.0 in /usr/local/lib/python3.11/dist-packages (from aiohttp<4.0.0,>=3.8.3->langchain-community) (1.20.1)\n",
            "Requirement already satisfied: marshmallow<4.0.0,>=3.18.0 in /usr/local/lib/python3.11/dist-packages (from dataclasses-json<0.7,>=0.5.7->langchain-community) (3.26.1)\n",
            "Requirement already satisfied: typing-inspect<1,>=0.4.0 in /usr/local/lib/python3.11/dist-packages (from dataclasses-json<0.7,>=0.5.7->langchain-community) (0.9.0)\n",
            "Requirement already satisfied: jsonpatch<2.0,>=1.33 in /usr/local/lib/python3.11/dist-packages (from langchain-core<1.0.0,>=0.3.66->langchain) (1.33)\n",
            "Requirement already satisfied: packaging<25,>=23.2 in /usr/local/lib/python3.11/dist-packages (from langchain-core<1.0.0,>=0.3.66->langchain) (24.2)\n",
            "Requirement already satisfied: typing-extensions>=4.7 in /usr/local/lib/python3.11/dist-packages (from langchain-core<1.0.0,>=0.3.66->langchain) (4.14.0)\n",
            "Requirement already satisfied: httpx<1,>=0.23.0 in /usr/local/lib/python3.11/dist-packages (from langsmith>=0.1.17->langchain) (0.28.1)\n",
            "Requirement already satisfied: orjson<4.0.0,>=3.9.14 in /usr/local/lib/python3.11/dist-packages (from langsmith>=0.1.17->langchain) (3.10.18)\n",
            "Requirement already satisfied: requests-toolbelt<2.0.0,>=1.0.0 in /usr/local/lib/python3.11/dist-packages (from langsmith>=0.1.17->langchain) (1.0.0)\n",
            "Requirement already satisfied: zstandard<0.24.0,>=0.23.0 in /usr/local/lib/python3.11/dist-packages (from langsmith>=0.1.17->langchain) (0.23.0)\n",
            "Requirement already satisfied: annotated-types>=0.6.0 in /usr/local/lib/python3.11/dist-packages (from pydantic<3.0.0,>=2.7.4->langchain) (0.7.0)\n",
            "Requirement already satisfied: pydantic-core==2.33.2 in /usr/local/lib/python3.11/dist-packages (from pydantic<3.0.0,>=2.7.4->langchain) (2.33.2)\n",
            "Requirement already satisfied: typing-inspection>=0.4.0 in /usr/local/lib/python3.11/dist-packages (from pydantic<3.0.0,>=2.7.4->langchain) (0.4.1)\n",
            "Requirement already satisfied: python-dotenv>=0.21.0 in /usr/local/lib/python3.11/dist-packages (from pydantic-settings<3.0.0,>=2.4.0->langchain-community) (1.1.1)\n",
            "Requirement already satisfied: charset-normalizer<4,>=2 in /usr/local/lib/python3.11/dist-packages (from requests<3,>=2->langchain) (3.4.2)\n",
            "Requirement already satisfied: idna<4,>=2.5 in /usr/local/lib/python3.11/dist-packages (from requests<3,>=2->langchain) (3.10)\n",
            "Requirement already satisfied: urllib3<3,>=1.21.1 in /usr/local/lib/python3.11/dist-packages (from requests<3,>=2->langchain) (2.4.0)\n",
            "Requirement already satisfied: certifi>=2017.4.17 in /usr/local/lib/python3.11/dist-packages (from requests<3,>=2->langchain) (2025.6.15)\n",
            "Requirement already satisfied: greenlet>=1 in /usr/local/lib/python3.11/dist-packages (from SQLAlchemy<3,>=1.4->langchain) (3.2.3)\n",
            "Requirement already satisfied: anyio in /usr/local/lib/python3.11/dist-packages (from httpx<1,>=0.23.0->langsmith>=0.1.17->langchain) (4.9.0)\n",
            "Requirement already satisfied: httpcore==1.* in /usr/local/lib/python3.11/dist-packages (from httpx<1,>=0.23.0->langsmith>=0.1.17->langchain) (1.0.9)\n",
            "Requirement already satisfied: h11>=0.16 in /usr/local/lib/python3.11/dist-packages (from httpcore==1.*->httpx<1,>=0.23.0->langsmith>=0.1.17->langchain) (0.16.0)\n",
            "Requirement already satisfied: jsonpointer>=1.9 in /usr/local/lib/python3.11/dist-packages (from jsonpatch<2.0,>=1.33->langchain-core<1.0.0,>=0.3.66->langchain) (3.0.0)\n",
            "Requirement already satisfied: mypy-extensions>=0.3.0 in /usr/local/lib/python3.11/dist-packages (from typing-inspect<1,>=0.4.0->dataclasses-json<0.7,>=0.5.7->langchain-community) (1.1.0)\n",
            "Requirement already satisfied: sniffio>=1.1 in /usr/local/lib/python3.11/dist-packages (from anyio->httpx<1,>=0.23.0->langsmith>=0.1.17->langchain) (1.3.1)\n"
          ]
        }
      ],
      "source": [
        "# #필수 라이브러리 설치 (필수 설치 라이브러리)\n",
        "!pip install langchain langchain-community pypdf"
      ]
    },
    {
      "cell_type": "markdown",
      "id": "2ad7618e-ecf1-4c0c-a057-1144943e1396",
      "metadata": {
        "id": "2ad7618e-ecf1-4c0c-a057-1144943e1396"
      },
      "source": [
        "**[이미지+텍스트 페이지 내 텍스트 추출]**"
      ]
    },
    {
      "cell_type": "code",
      "execution_count": 14,
      "id": "99b0a25c-65ff-4a57-849d-448f3165d563",
      "metadata": {
        "id": "99b0a25c-65ff-4a57-849d-448f3165d563",
        "colab": {
          "base_uri": "https://localhost:8080/"
        },
        "outputId": "db7f0b49-0806-42d7-9912-870ef7d9062c"
      },
      "outputs": [
        {
          "output_type": "stream",
          "name": "stdout",
          "text": [
            "vi\n",
            "Contents\n",
            "Abstract iii\n",
            "Acknowledgments iv\n",
            "Abbreviations and Glossary v\n",
            "1 Aging Will Define the Evolution of Pensions and Social Insurance in the Coming Years 1\n",
            "2 Aging Will Affect All Regions of the World, Many at a Rapid Pace 3\n",
            "3 Contributory and Social Pensions as Instruments for Income Protection in Retirement 5\n",
            "4 Pension Expenditures Are Significantly Affected by the Level of Aging 8\n",
            "4.1 Mature, Well-Established Pensions Show the Largest Expenditures, but Special Regimes \n",
            "Constitute Significant Pension Costs in Less-Developed Countries 10\n",
            "4.2 Expenditure on Non-Contributory Pensions Mirrors Their Coverage Target 12\n",
            "5 Coverage of Pensions and Social Insurance 16\n",
            "5.1 Coverage in Working Age Is Determined by Extent of Formal Employment 16\n",
            "5.2 Beneficiary Coverage 18\n",
            "5.3 Expanding Coverage to the Informal Sector through Voluntary Pension Schemes 21\n",
            "5.4 Coverage Tends to Increase with Income for Contributory Pensions and Decrease for \n",
            "Social Pensions 24\n",
            "6 Adequacy of Pension Benefits 29\n",
            "6.1 The Generosity of Contributory Benefits Tends to Be Larger in Less Developed \n",
            "Countries and in Special Regimes 29\n",
            "6.2 Pension Benefits Are an Important Component of Recipient Households’ Welfare in Most \n",
            "Regions 31\n",
            "6.3 The Poverty Impact of Pensions Is Largest for Contributory Pensions in Europe and \n",
            "Central Asia and Social Pensions in the Few Sub-Saharan African Countries where they \n",
            "are Present 33\n",
            "7 Sustainability of DB Schemes: Parametric Imbalance in Most Regions Increases the \n",
            "Need for Reforms 35\n",
            "8 Conclusions 39\n"
          ]
        }
      ],
      "source": [
        "#PyPDFLoader 불러오기\n",
        "from langchain.document_loaders import PyPDFLoader\n",
        "filename = \"/content/drive/MyDrive/WB/2025JPO/Reading/Riding the Demographic Wave- Pensions and Retirement Income in an Aging World.pdf\"\n",
        "# PDF파일 불러올 객체 PyPDFLoader 선언\n",
        "loader = PyPDFLoader(filename)\n",
        "\n",
        "# PDF파일 로드 및 페이지별로 자르기\n",
        "pages = loader.load_and_split()\n",
        "print(pages[6].page_content) #pages[5]페이지 내용을 객체로 긁어옴 (해당 페이지의 text 내용을 긁어올 수 있음)"
      ]
    },
    {
      "cell_type": "markdown",
      "id": "ae9af824-f25b-473c-93e2-8ca6ce8983e9",
      "metadata": {
        "id": "ae9af824-f25b-473c-93e2-8ca6ce8983e9"
      },
      "source": [
        "**[OCR 기능 활용하여 이미지-텍스트 혼합 페이지 내 텍스트 추출하기]**"
      ]
    },
    {
      "cell_type": "code",
      "execution_count": 15,
      "id": "c68bdbf8-8722-40a9-90f2-77464a89e46c",
      "metadata": {
        "id": "c68bdbf8-8722-40a9-90f2-77464a89e46c",
        "colab": {
          "base_uri": "https://localhost:8080/"
        },
        "outputId": "077f7b5c-10c5-4e8e-ddc3-11da8c227d76"
      },
      "outputs": [
        {
          "output_type": "stream",
          "name": "stdout",
          "text": [
            "Requirement already satisfied: rapidocr-onnxruntime in /usr/local/lib/python3.11/dist-packages (1.4.4)\n",
            "Requirement already satisfied: pyclipper>=1.2.0 in /usr/local/lib/python3.11/dist-packages (from rapidocr-onnxruntime) (1.3.0.post6)\n",
            "Requirement already satisfied: opencv-python>=4.5.1.48 in /usr/local/lib/python3.11/dist-packages (from rapidocr-onnxruntime) (4.11.0.86)\n",
            "Requirement already satisfied: numpy<3.0.0,>=1.19.5 in /usr/local/lib/python3.11/dist-packages (from rapidocr-onnxruntime) (2.0.2)\n",
            "Requirement already satisfied: six>=1.15.0 in /usr/local/lib/python3.11/dist-packages (from rapidocr-onnxruntime) (1.17.0)\n",
            "Requirement already satisfied: Shapely!=2.0.4,>=1.7.1 in /usr/local/lib/python3.11/dist-packages (from rapidocr-onnxruntime) (2.1.1)\n",
            "Requirement already satisfied: PyYAML in /usr/local/lib/python3.11/dist-packages (from rapidocr-onnxruntime) (6.0.2)\n",
            "Requirement already satisfied: Pillow in /usr/local/lib/python3.11/dist-packages (from rapidocr-onnxruntime) (11.2.1)\n",
            "Requirement already satisfied: onnxruntime>=1.7.0 in /usr/local/lib/python3.11/dist-packages (from rapidocr-onnxruntime) (1.22.0)\n",
            "Requirement already satisfied: tqdm in /usr/local/lib/python3.11/dist-packages (from rapidocr-onnxruntime) (4.67.1)\n",
            "Requirement already satisfied: coloredlogs in /usr/local/lib/python3.11/dist-packages (from onnxruntime>=1.7.0->rapidocr-onnxruntime) (15.0.1)\n",
            "Requirement already satisfied: flatbuffers in /usr/local/lib/python3.11/dist-packages (from onnxruntime>=1.7.0->rapidocr-onnxruntime) (25.2.10)\n",
            "Requirement already satisfied: packaging in /usr/local/lib/python3.11/dist-packages (from onnxruntime>=1.7.0->rapidocr-onnxruntime) (24.2)\n",
            "Requirement already satisfied: protobuf in /usr/local/lib/python3.11/dist-packages (from onnxruntime>=1.7.0->rapidocr-onnxruntime) (5.29.5)\n",
            "Requirement already satisfied: sympy in /usr/local/lib/python3.11/dist-packages (from onnxruntime>=1.7.0->rapidocr-onnxruntime) (1.13.1)\n",
            "Requirement already satisfied: humanfriendly>=9.1 in /usr/local/lib/python3.11/dist-packages (from coloredlogs->onnxruntime>=1.7.0->rapidocr-onnxruntime) (10.0)\n",
            "Requirement already satisfied: mpmath<1.4,>=1.1.0 in /usr/local/lib/python3.11/dist-packages (from sympy->onnxruntime>=1.7.0->rapidocr-onnxruntime) (1.3.0)\n"
          ]
        }
      ],
      "source": [
        "# #OCR기능 위해 설치\n",
        "!pip install rapidocr-onnxruntime"
      ]
    },
    {
      "cell_type": "markdown",
      "id": "a36f3829-bcd0-4f27-b0af-d960db8af1e8",
      "metadata": {
        "id": "a36f3829-bcd0-4f27-b0af-d960db8af1e8"
      },
      "source": [
        "*아래 셀은 실행 시 많은 시간이 소요됩니다."
      ]
    },
    {
      "cell_type": "code",
      "execution_count": 18,
      "id": "be08e923-c8dd-403e-b69e-f0074c7dcc2b",
      "metadata": {
        "id": "be08e923-c8dd-403e-b69e-f0074c7dcc2b",
        "colab": {
          "base_uri": "https://localhost:8080/"
        },
        "outputId": "7d76faef-5cb6-4d8e-a0e3-3662701f6a26"
      },
      "outputs": [
        {
          "output_type": "stream",
          "name": "stdout",
          "text": [
            "vi\n",
            "Contents\n",
            "Abstract iii\n",
            "Acknowledgments iv\n",
            "Abbreviations and Glossary v\n",
            "1 Aging Will Define the Evolution of Pensions and Social Insurance in the Coming Years 1\n",
            "2 Aging Will Affect All Regions of the World, Many at a Rapid Pace 3\n",
            "3 Contributory and Social Pensions as Instruments for Income Protection in Retirement 5\n",
            "4 Pension Expenditures Are Significantly Affected by the Level of Aging 8\n",
            "4.1 Mature, Well-Established Pensions Show the Largest Expenditures, but Special Regimes \n",
            "Constitute Significant Pension Costs in Less-Developed Countries 10\n",
            "4.2 Expenditure on Non-Contributory Pensions Mirrors Their Coverage Target 12\n",
            "5 Coverage of Pensions and Social Insurance 16\n",
            "5.1 Coverage in Working Age Is Determined by Extent of Formal Employment 16\n",
            "5.2 Beneficiary Coverage 18\n",
            "5.3 Expanding Coverage to the Informal Sector through Voluntary Pension Schemes 21\n",
            "5.4 Coverage Tends to Increase with Income for Contributory Pensions and Decrease for \n",
            "Social Pensions 24\n",
            "6 Adequacy of Pension Benefits 29\n",
            "6.1 The Generosity of Contributory Benefits Tends to Be Larger in Less Developed \n",
            "Countries and in Special Regimes 29\n",
            "6.2 Pension Benefits Are an Important Component of Recipient Households’ Welfare in Most \n",
            "Regions 31\n",
            "6.3 The Poverty Impact of Pensions Is Largest for Contributory Pensions in Europe and \n",
            "Central Asia and Social Pensions in the Few Sub-Saharan African Countries where they \n",
            "are Present 33\n",
            "7 Sustainability of DB Schemes: Parametric Imbalance in Most Regions Increases the \n",
            "Need for Reforms 35\n",
            "8 Conclusions 39\n"
          ]
        }
      ],
      "source": [
        "#PyPDFLoader 불러오기\n",
        "from langchain.document_loaders import PyPDFLoader\n",
        "\n",
        "# PDF파일 불러올 객체 PyPDFLoader 선언(extract_images 매개변수로 OCR 수행)\n",
        "loader = PyPDFLoader(filename, extract_images=True) #이미지까지 긇어오는 격\n",
        "\n",
        "# PDF파일 로드 및 페이지별로 자르기\n",
        "pages = loader.load_and_split()\n",
        "print(pages[6].page_content)"
      ]
    },
    {
      "cell_type": "markdown",
      "id": "ee45f1ad-3e43-4573-803c-a778ea6c4f3b",
      "metadata": {
        "id": "ee45f1ad-3e43-4573-803c-a778ea6c4f3b"
      },
      "source": [
        "**[페이지 내 테이블 추출하기]**"
      ]
    },
    {
      "cell_type": "code",
      "execution_count": 19,
      "id": "5952aae1-ad13-403c-8a97-798b8977a166",
      "metadata": {
        "id": "5952aae1-ad13-403c-8a97-798b8977a166",
        "colab": {
          "base_uri": "https://localhost:8080/"
        },
        "outputId": "42644f44-377c-4f33-bd96-64bec5679e10"
      },
      "outputs": [
        {
          "output_type": "stream",
          "name": "stdout",
          "text": [
            "page_content='RIDING THE DEMOGRAPHIC WAVE: PENSIONS AND RETIREMENT INCOME IN AN AGING WORLD42\n",
            "Region: AFRICA Income group Target P opulation/Type\n",
            "Country Integrated Private sector Public sector\n",
            "Niger Low DB — DB\n",
            "Nigeria Lower middle DC — — \n",
            "Rwanda Low DB — — \n",
            "Senegal Lower middle . DB DB\n",
            "Seychelles High DB — — \n",
            "South Africa Upper middle — — DB\n",
            "Togo Low — DB DB\n",
            "Uganda Low — DC DB\n",
            "Zambia Lower middle — DB DB\n",
            "Zimbabwe Lower middle — DB DB\n",
            "Region: EAST ASIA AND THE PACIFIC Income group Target P opulation/Type\n",
            "Country Integrated Private sector Public sector\n",
            "Cambodia Lower middle — — DB\n",
            "China Upper middle Hybrid — —\n",
            "Indonesia Upper middle — DB, DC DB\n",
            "Lao People’s Democratic Republic Lower middle DB — —\n",
            "Malaysia Upper middle — DC DB\n",
            "Mongolia Upper middle DB, NDC — —\n",
            "Myanmar Lower middle — — DB\n",
            "Philippines Lower middle — DB DB\n",
            "Thailand Upper middle — DB DB, DC\n",
            "Tonga Upper middle — DC DC\n",
            "Viet Nam Lower middle DB — —\n",
            "Region: EUROPE AND CENTRAL ASIA Income group Target P opulation/Type\n",
            "Country Integrated Private sector Public sector\n",
            "Albania Upper middle DB — —\n",
            "Azerbaijan Upper middle NDC — —\n",
            "Bulgaria High DB, DC — —\n",
            "Czech Republic High DB — —\n",
            "Estonia High DB — —\n",
            "Georgia Upper middle DC — —\n",
            "Hungary High DB — —\n",
            "Kosovo Upper middle — DC —\n",
            "Kyrgyz Republic Lower middle Hybrid — —\n",
            "Latvia High DC, NDC — —\n",
            "Lithuania High DB — —\n",
            "(continued)' metadata={'producer': 'Adobe PDF Library 17.0 / PDF PT 4.7.24.2 (pdf-tools.com)', 'creator': 'Adobe InDesign 20.2 (Macintosh)', 'creationdate': '2025-04-02T02:04:20+05:30', 'author': 'World Bank Group', 'moddate': 'D:20250403092210', 'title': 'World Bank Document', 'trapped': '/False', 'source': '/content/drive/MyDrive/WB/2025JPO/Reading/Riding the Demographic Wave- Pensions and Retirement Income in an Aging World.pdf', 'total_pages': 63, 'page': 50, 'page_label': '52'}\n"
          ]
        }
      ],
      "source": [
        "#PyPDFLoader 불러오기\n",
        "from langchain.document_loaders import PyPDFLoader\n",
        "\n",
        "# PDF파일 불러올 객체 PyPDFLoader 선언\n",
        "loader = PyPDFLoader(filename)\n",
        "\n",
        "# PDF파일 로드 및 페이지별로 자르기\n",
        "pages = loader.load_and_split()\n",
        "print(pages[50])"
      ]
    },
    {
      "cell_type": "markdown",
      "id": "9a1810c5-ca25-48cf-9714-bbf59029d205",
      "metadata": {
        "id": "9a1810c5-ca25-48cf-9714-bbf59029d205"
      },
      "source": [
        "### **PyPDFium2**"
      ]
    },
    {
      "cell_type": "markdown",
      "id": "e381093d-0740-44db-9166-6f944803eaef",
      "metadata": {
        "id": "e381093d-0740-44db-9166-6f944803eaef"
      },
      "source": [
        "**[이미지+텍스트 페이지 내 텍스트 추출]**"
      ]
    },
    {
      "cell_type": "code",
      "execution_count": 20,
      "id": "a57e532a-ca50-463d-b2f9-8bf5c4b91e4b",
      "metadata": {
        "id": "a57e532a-ca50-463d-b2f9-8bf5c4b91e4b",
        "colab": {
          "base_uri": "https://localhost:8080/"
        },
        "outputId": "4462107d-f9cc-46b4-90f1-9e55c34b25df"
      },
      "outputs": [
        {
          "output_type": "stream",
          "name": "stdout",
          "text": [
            "Collecting pypdfium2\n",
            "  Downloading pypdfium2-4.30.1-py3-none-manylinux_2_17_x86_64.manylinux2014_x86_64.whl.metadata (48 kB)\n",
            "\u001b[?25l     \u001b[90m━━━━━━━━━━━━━━━━━━━━━━━━━━━━━━━━━━━━━━━━\u001b[0m \u001b[32m0.0/48.2 kB\u001b[0m \u001b[31m?\u001b[0m eta \u001b[36m-:--:--\u001b[0m\r\u001b[2K     \u001b[90m━━━━━━━━━━━━━━━━━━━━━━━━━━━━━━━━━━━━━━━━\u001b[0m \u001b[32m48.2/48.2 kB\u001b[0m \u001b[31m3.1 MB/s\u001b[0m eta \u001b[36m0:00:00\u001b[0m\n",
            "\u001b[?25hDownloading pypdfium2-4.30.1-py3-none-manylinux_2_17_x86_64.manylinux2014_x86_64.whl (2.9 MB)\n",
            "\u001b[2K   \u001b[90m━━━━━━━━━━━━━━━━━━━━━━━━━━━━━━━━━━━━━━━━\u001b[0m \u001b[32m2.9/2.9 MB\u001b[0m \u001b[31m24.0 MB/s\u001b[0m eta \u001b[36m0:00:00\u001b[0m\n",
            "\u001b[?25hInstalling collected packages: pypdfium2\n",
            "Successfully installed pypdfium2-4.30.1\n"
          ]
        }
      ],
      "source": [
        "# #PyPDFium2 설치\n",
        "!pip install pypdfium2"
      ]
    },
    {
      "cell_type": "code",
      "execution_count": 22,
      "id": "75a43510-2e68-4a64-bb7a-f49895429e11",
      "metadata": {
        "id": "75a43510-2e68-4a64-bb7a-f49895429e11",
        "colab": {
          "base_uri": "https://localhost:8080/"
        },
        "outputId": "48c9d1a0-0bb9-4dcd-9525-45be3e54c4b7"
      },
      "outputs": [
        {
          "output_type": "stream",
          "name": "stdout",
          "text": [
            "42 RIDING THE DEMOGRAPHIC WAVE: PENSIONS AND RETIREMENT INCOME IN AN AGING WORLD\n",
            "Region: AFRICA Income group Target Population/Type\n",
            "Country Integrated Private sector Public sector\n",
            "Niger Low DB — DB\n",
            "Nigeria Lower middle DC — —\n",
            "Rwanda Low DB — —\n",
            "Senegal Lower middle . DB DB\n",
            "Seychelles High DB — —\n",
            "South Africa Upper middle — — DB\n",
            "Togo Low — DB DB\n",
            "Uganda Low — DC DB\n",
            "Zambia Lower middle — DB DB\n",
            "Zimbabwe Lower middle — DB DB\n",
            "Region: EAST ASIA AND THE PACIFIC Income group Target Population/Type\n",
            "Country Integrated Private sector Public sector\n",
            "Cambodia Lower middle — — DB\n",
            "China Upper middle Hybrid — —\n",
            "Indonesia Upper middle — DB, DC DB\n",
            "Lao People’s Democratic Republic Lower middle DB — —\n",
            "Malaysia Upper middle — DC DB\n",
            "Mongolia Upper middle DB, NDC — —\n",
            "Myanmar Lower middle — — DB\n",
            "Philippines Lower middle — DB DB\n",
            "Thailand Upper middle — DB DB, DC\n",
            "Tonga Upper middle — DC DC\n",
            "Viet Nam Lower middle DB — —\n",
            "Region: EUROPE AND CENTRAL ASIA Income group Target Population/Type\n",
            "Country Integrated Private sector Public sector\n",
            "Albania Upper middle DB — —\n",
            "Azerbaijan Upper middle NDC — —\n",
            "Bulgaria High DB, DC — —\n",
            "Czech Republic High DB — —\n",
            "Estonia High DB — —\n",
            "Georgia Upper middle DC — —\n",
            "Hungary High DB — —\n",
            "Kosovo Upper middle — DC —\n",
            "Kyrgyz Republic Lower middle Hybrid — —\n",
            "Latvia High DC, NDC — —\n",
            "Lithuania High DB — —\n",
            "(continued)\n",
            "\n"
          ]
        }
      ],
      "source": [
        "#PyPDFium2 불러오기\n",
        "from langchain.document_loaders import PyPDFium2Loader\n",
        "\n",
        "# PDF파일 불러올 객체 PyPDFium2Loader 선언\n",
        "loader = PyPDFium2Loader(filename)\n",
        "\n",
        "# PDF파일 로드 및 페이지별로 자르기(PyPDFium2는 load_and_split 함수 없이도 페이지별로 자름)\n",
        "data = loader.load()\n",
        "print(data[50].page_content)"
      ]
    },
    {
      "cell_type": "markdown",
      "id": "b35cfbc8-a246-42f5-8ff1-68101515ddff",
      "metadata": {
        "id": "b35cfbc8-a246-42f5-8ff1-68101515ddff"
      },
      "source": [
        "**[페이지 내 테이블 추출하기]**"
      ]
    },
    {
      "cell_type": "code",
      "execution_count": 23,
      "id": "945a0cac-2b3d-4f60-8af8-9f733f54fc98",
      "metadata": {
        "id": "945a0cac-2b3d-4f60-8af8-9f733f54fc98",
        "colab": {
          "base_uri": "https://localhost:8080/"
        },
        "outputId": "3b61fbc6-a53b-4ccc-915a-c11fb1526fae"
      },
      "outputs": [
        {
          "output_type": "stream",
          "name": "stdout",
          "text": [
            "42 RIDING THE DEMOGRAPHIC WAVE: PENSIONS AND RETIREMENT INCOME IN AN AGING WORLD\n",
            "Region: AFRICA Income group Target Population/Type\n",
            "Country Integrated Private sector Public sector\n",
            "Niger Low DB — DB\n",
            "Nigeria Lower middle DC — —\n",
            "Rwanda Low DB — —\n",
            "Senegal Lower middle . DB DB\n",
            "Seychelles High DB — —\n",
            "South Africa Upper middle — — DB\n",
            "Togo Low — DB DB\n",
            "Uganda Low — DC DB\n",
            "Zambia Lower middle — DB DB\n",
            "Zimbabwe Lower middle — DB DB\n",
            "Region: EAST ASIA AND THE PACIFIC Income group Target Population/Type\n",
            "Country Integrated Private sector Public sector\n",
            "Cambodia Lower middle — — DB\n",
            "China Upper middle Hybrid — —\n",
            "Indonesia Upper middle — DB, DC DB\n",
            "Lao People’s Democratic Republic Lower middle DB — —\n",
            "Malaysia Upper middle — DC DB\n",
            "Mongolia Upper middle DB, NDC — —\n",
            "Myanmar Lower middle — — DB\n",
            "Philippines Lower middle — DB DB\n",
            "Thailand Upper middle — DB DB, DC\n",
            "Tonga Upper middle — DC DC\n",
            "Viet Nam Lower middle DB — —\n",
            "Region: EUROPE AND CENTRAL ASIA Income group Target Population/Type\n",
            "Country Integrated Private sector Public sector\n",
            "Albania Upper middle DB — —\n",
            "Azerbaijan Upper middle NDC — —\n",
            "Bulgaria High DB, DC — —\n",
            "Czech Republic High DB — —\n",
            "Estonia High DB — —\n",
            "Georgia Upper middle DC — —\n",
            "Hungary High DB — —\n",
            "Kosovo Upper middle — DC —\n",
            "Kyrgyz Republic Lower middle Hybrid — —\n",
            "Latvia High DC, NDC — —\n",
            "Lithuania High DB — —\n",
            "(continued)\n",
            "\n"
          ]
        }
      ],
      "source": [
        "#PyPDFium2 불러오기\n",
        "from langchain.document_loaders import PyPDFium2Loader\n",
        "\n",
        "# PDF파일 불러올 객체 PyPDFium2Loader 선언\n",
        "loader = PyPDFium2Loader(filename)\n",
        "\n",
        "# PDF파일 로드 및 페이지별로 자르기(PyPDFium2는 load_and_split 함수 없이도 페이지별로 자름)\n",
        "data = loader.load()\n",
        "print(data[50].page_content)"
      ]
    },
    {
      "cell_type": "markdown",
      "id": "ec348480-4b57-4830-997e-62794e8dc259",
      "metadata": {
        "id": "ec348480-4b57-4830-997e-62794e8dc259"
      },
      "source": [
        "### **PyPDFLoader vs PyPDFium2Loader**"
      ]
    },
    {
      "cell_type": "markdown",
      "id": "2eab9ad4-e454-47ed-9642-f4a7a6c592cf",
      "metadata": {
        "id": "2eab9ad4-e454-47ed-9642-f4a7a6c592cf"
      },
      "source": [
        "**[PyPDFLoader의 텍스트 추출 소요 시간]**"
      ]
    },
    {
      "cell_type": "code",
      "execution_count": 24,
      "id": "0c20b0fd-6f8d-48c4-bd0b-728f7a243cc4",
      "metadata": {
        "id": "0c20b0fd-6f8d-48c4-bd0b-728f7a243cc4",
        "colab": {
          "base_uri": "https://localhost:8080/"
        },
        "outputId": "0510f023-9f07-49f6-d3c0-5d3185d3c672"
      },
      "outputs": [
        {
          "output_type": "stream",
          "name": "stdout",
          "text": [
            "CPU times: user 2.46 s, sys: 1.92 ms, total: 2.46 s\n",
            "Wall time: 2.55 s\n"
          ]
        }
      ],
      "source": [
        "%%time\n",
        "from langchain.document_loaders import PyPDFLoader\n",
        "\n",
        "loader = PyPDFLoader(filename)\n",
        "\n",
        "pages = loader.load_and_split()"
      ]
    },
    {
      "cell_type": "markdown",
      "id": "4a1aaacc-1bc8-434a-826e-5fd05273884c",
      "metadata": {
        "id": "4a1aaacc-1bc8-434a-826e-5fd05273884c"
      },
      "source": [
        "**[PyPDFium2의 텍스트 추출 소요 시간]**\n",
        "\n",
        "- 유지 보수 측면에서 비교 확인하면 좋음\n",
        "\n"
      ]
    },
    {
      "cell_type": "code",
      "execution_count": 25,
      "id": "998e311c-95ce-4b98-814d-5e1ccc16c2a4",
      "metadata": {
        "id": "998e311c-95ce-4b98-814d-5e1ccc16c2a4",
        "colab": {
          "base_uri": "https://localhost:8080/"
        },
        "outputId": "4b725986-e43e-49fa-8207-d3f8d8996233"
      },
      "outputs": [
        {
          "output_type": "stream",
          "name": "stdout",
          "text": [
            "CPU times: user 204 ms, sys: 6.51 ms, total: 211 ms\n",
            "Wall time: 215 ms\n"
          ]
        }
      ],
      "source": [
        "%%time\n",
        "from langchain.document_loaders import PyPDFium2Loader\n",
        "\n",
        "loader = PyPDFium2Loader(filename)\n",
        "\n",
        "pages = loader.load()"
      ]
    },
    {
      "cell_type": "code",
      "execution_count": null,
      "id": "d62dab6c-efb0-4d8d-ace8-972240741f8f",
      "metadata": {
        "id": "d62dab6c-efb0-4d8d-ace8-972240741f8f"
      },
      "outputs": [],
      "source": []
    }
  ],
  "metadata": {
    "colab": {
      "provenance": [],
      "include_colab_link": true
    },
    "kernelspec": {
      "display_name": "Python 3 (ipykernel)",
      "language": "python",
      "name": "python3"
    },
    "language_info": {
      "codemirror_mode": {
        "name": "ipython",
        "version": 3
      },
      "file_extension": ".py",
      "mimetype": "text/x-python",
      "name": "python",
      "nbconvert_exporter": "python",
      "pygments_lexer": "ipython3",
      "version": "3.12.7"
    }
  },
  "nbformat": 4,
  "nbformat_minor": 5
}